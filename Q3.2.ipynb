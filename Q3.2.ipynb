{
 "cells": [
  {
   "cell_type": "code",
   "execution_count": 5,
   "id": "1098f946-12d6-47a0-b4ee-9d26e0dc03c2",
   "metadata": {},
   "outputs": [],
   "source": [
    "import numpy as np\n",
    "import graph.collaborative\n",
    "import networkx as nx\n",
    "g = graph.collaborative.create_from(data='hero-network.csv')"
   ]
  },
  {
   "cell_type": "code",
   "execution_count": 1,
   "id": "08967dd5-7d2f-4ee7-b1ec-8dd12fb5aeee",
   "metadata": {},
   "outputs": [],
   "source": [
    "def mean_centr(G, node, metric):\n",
    "    # Calculate the metric values for the entire graph\n",
    "    if metric == 'betweenness_centrality':\n",
    "        metric_values = nx.betweenness_centrality(G)\n",
    "    elif metric == 'pagerank':\n",
    "        metric_values = nx.pagerank(G)\n",
    "    elif metric == 'closeness_centrality':\n",
    "        metric_values = nx.closeness_centrality(G)\n",
    "    elif metric == 'degree_centrality':\n",
    "        metric_values = nx.degree_centrality(G)\n",
    "    else:\n",
    "        raise ValueError('Invalid metric')\n",
    "    mean_centrality = np.array(list(metric_values.values())).mean()\n",
    "    node_metric_value = metric_values[node]\n",
    "    return mean_centrality, node_metric_value"
   ]
  },
  {
   "cell_type": "code",
   "execution_count": 6,
   "id": "6f24e2ae-4b19-41dc-b534-3ee891a1ec99",
   "metadata": {},
   "outputs": [
    {
     "name": "stdout",
     "output_type": "stream",
     "text": [
      "0.0002538116864192274\n",
      "0.056931445335072536\n"
     ]
    }
   ],
   "source": [
    "mean_centrality, node_metric_value = mean_centr(g, 'CAPTAIN AMERICA', 'betweenness_centrality')\n",
    "print(mean_centrality) \n",
    "print(node_metric_value) "
   ]
  }
 ],
 "metadata": {
  "kernelspec": {
   "display_name": "Python 3 (ipykernel)",
   "language": "python",
   "name": "python3"
  },
  "language_info": {
   "codemirror_mode": {
    "name": "ipython",
    "version": 3
   },
   "file_extension": ".py",
   "mimetype": "text/x-python",
   "name": "python",
   "nbconvert_exporter": "python",
   "pygments_lexer": "ipython3",
   "version": "3.9.12"
  }
 },
 "nbformat": 4,
 "nbformat_minor": 5
}
