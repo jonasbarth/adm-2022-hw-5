{
 "cells": [
  {
   "cell_type": "code",
   "execution_count": 1,
   "id": "fc4fefeb-1c10-4b39-85cd-28f8e60544c9",
   "metadata": {},
   "outputs": [],
   "source": [
    "import graph.collaborative\n",
    "import networkx as nx\n",
    "g = graph.collaborative.create_from(data='hero-network.csv')"
   ]
  },
  {
   "cell_type": "code",
   "execution_count": 2,
   "id": "399867b7-b45c-461e-a561-22ef69cca7ef",
   "metadata": {},
   "outputs": [],
   "source": [
    "def get_metric_values(G, node, metric, N):\n",
    "    # Calculate the metric values for the entire graph\n",
    "    if metric == 'betweenness_centrality':\n",
    "        metric_values = nx.betweenness_centrality(G)\n",
    "    elif metric == 'pagerank':\n",
    "        metric_values = nx.pagerank(G)\n",
    "    elif metric == 'closeness_centrality':\n",
    "        metric_values = nx.closeness_centrality(G)\n",
    "    elif metric == 'degree_centrality':\n",
    "        metric_values = nx.degree_centrality(G)\n",
    "    else:\n",
    "        raise ValueError('Invalid metric')\n",
    "    \n",
    "    # Get the metric value for the given node\n",
    "    node_metric_value = metric_values[node]\n",
    "    \n",
    "    # Get the top N nodes with the most edges\n",
    "    top_n_edges = sorted(G.degree, key=lambda x: x[1], reverse=True)[:N]\n",
    "    top_n_nodes = [t[0] for t in top_n_edges]\n",
    "    \n",
    "    # Filter the metric values for the top N nodes\n",
    "    top_n_metric_values = {k: v for k, v in metric_values.items() if k in top_n_nodes}\n",
    "    \n",
    "    return top_n_metric_values, node_metric_value"
   ]
  },
  {
   "cell_type": "code",
   "execution_count": 3,
   "id": "92bc873b-6f79-4c7b-96c0-ddc84e9e463f",
   "metadata": {},
   "outputs": [
    {
     "name": "stdout",
     "output_type": "stream",
     "text": [
      "{'THING/BENJAMIN J. GR': 0.02545605543525384, 'MR. FANTASTIC/REED R': 0.023744878146917656, 'THOR/DR. DONALD BLAK': 0.023303332097813663, 'BEAST/HENRY &HANK& P': 0.021730952047069763, 'IRON MAN/TONY STARK': 0.037238278564322186, 'SPIDER-MAN/PETER PARKER': 0.07358526356259772, 'HUMAN TORCH/JOHNNY S': 0.021507082137191887, 'SCARLET WITCH/WANDA': 0.016154487242239658, 'WOLVERINE/LOGAN': 0.035694256737779526, 'CAPTAIN AMERICA': 0.05693144533507228}\n",
      "0.05693144533507228\n"
     ]
    }
   ],
   "source": [
    "top_n_metric_values, node_metric_value = get_metric_values(g, 'CAPTAIN AMERICA', 'betweenness_centrality', 10)\n",
    "print(top_n_metric_values)  # prints the Betweenness Centrality values for the top 10 nodes with the most edges\n",
    "print(node_metric_value)  # prints the Betweenness Centrality value for the given node"
   ]
  }
 ],
 "metadata": {
  "kernelspec": {
   "display_name": "Python 3 (ipykernel)",
   "language": "python",
   "name": "python3"
  },
  "language_info": {
   "codemirror_mode": {
    "name": "ipython",
    "version": 3
   },
   "file_extension": ".py",
   "mimetype": "text/x-python",
   "name": "python",
   "nbconvert_exporter": "python",
   "pygments_lexer": "ipython3",
   "version": "3.9.12"
  }
 },
 "nbformat": 4,
 "nbformat_minor": 5
}
