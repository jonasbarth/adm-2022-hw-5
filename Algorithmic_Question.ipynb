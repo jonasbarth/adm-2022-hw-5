{
 "cells": [
  {
   "cell_type": "markdown",
   "metadata": {},
   "source": [
    "# Algorithmic Question"
   ]
  },
  {
   "attachments": {},
   "cell_type": "markdown",
   "metadata": {},
   "source": [
    "### ... at least i'm trying..."
   ]
  },
  {
   "cell_type": "markdown",
   "metadata": {},
   "source": [
    "## Version 3 (the one i like the most):"
   ]
  },
  {
   "cell_type": "code",
   "execution_count": 21,
   "metadata": {},
   "outputs": [
    {
     "name": "stdout",
     "output_type": "stream",
     "text": [
      "[(0, 0), (0, 1), (0, 2), (1, 0), (1, 1), (1, 2), (2, 0), (2, 1), (2, 2)]\n"
     ]
    },
    {
     "data": {
      "text/plain": [
       "2"
      ]
     },
     "execution_count": 21,
     "metadata": {},
     "output_type": "execute_result"
    }
   ],
   "source": [
    "# We need to define some initial functions:\n",
    "\n",
    "# 1: check if two consecutive characters in input are equal:\n",
    "def has_consecutive_chars(string):\n",
    "  for i in range(len(string) - 1):\n",
    "    if string[i] == string[i + 1]:\n",
    "      return True\n",
    "  return False\n",
    "\n",
    "# 2: check if D-U or L-R are consecutive in the string:\n",
    "def consecutive_not_valid(string, c1, c2):\n",
    "  for i in range(len(string) - 1):\n",
    "    if (string[i] == c1 and string[i + 1] == c2) or (string[i] == c2 and string[i + 1] == c1):\n",
    "      return True\n",
    "  return False\n",
    "\n",
    "# 3: New starting point: (this is not a function actually)\n",
    "\n",
    "import itertools\n",
    "x = 0\n",
    "y = 0\n",
    "\n",
    "combinations = []\n",
    "\n",
    "for x_, y_ in itertools.product(range(3), range(3)):\n",
    "  x = x_\n",
    "  y = y_\n",
    "  combinations.append((x, y))\n",
    "  \n",
    "print(combinations)\n",
    "\n",
    "combinations[5][1]\n"
   ]
  },
  {
   "cell_type": "markdown",
   "metadata": {},
   "source": [
    "# My version:"
   ]
  },
  {
   "cell_type": "code",
   "execution_count": 52,
   "metadata": {},
   "outputs": [
    {
     "data": {
      "text/plain": [
       "True"
      ]
     },
     "execution_count": 52,
     "metadata": {},
     "output_type": "execute_result"
    }
   ],
   "source": [
    "def count_patterns(directions, current_x = 0, current_y = 0):\n",
    "\n",
    "  ##################################### PRE-PROCESSING #####################################\n",
    "\n",
    "  # First of all, we capitalize all the letters given in input:\n",
    "  directions = directions.upper()\n",
    "\n",
    "  # Now, we need to check if the input string is a valid input.\n",
    "\n",
    "  # We start from checking if the string has two consecutive characters:\n",
    "  if has_consecutive_chars(directions):\n",
    "    return 'Error: there is no such path because you input command is not valid. Be sure to not insert the same instruction twice in a row, and be sure to not insert U-D or L-R in two consecutive spots'\n",
    "\n",
    "  # Then we also check if R-L or D-U are consecutive in the string. If so, there is intersection:\n",
    "  if consecutive_not_valid(directions, 'L', 'R') or consecutive_not_valid(directions, 'D', 'U'):\n",
    "    return 'Error: there is no such path because you input command is not valid. Be sure to not insert the same instruction twice in a row, and be sure to not insert U-D or L-R in two consecutive spots'\n",
    "\n",
    "############################################################################################\n",
    "  \n",
    "\n",
    "  # Now we can wite the algorithm:\n",
    "  \n",
    "  \n",
    "  # We create a graph with 9 nodes, representing the cells in the grid\n",
    "  graph = [ [False for x in range(3)] for y in range(3) ]\n",
    "\n",
    "  # We also add a counter that will be updated if the istruction leads to a correct path. If this counter will be equal to the length of the input-string, we conclude that the input command is a valid one\n",
    "  counter = 0\n",
    "\n",
    "  # we comment these two next lines because it's easiers to iterate the function over all the possible combinations of (x,y)\n",
    "  #current_x = 0\n",
    "  #current_y = 0\n",
    "\n",
    "  # Here is what we will do. For every letter in input, we visit a new node in the graph.\n",
    "  for d in directions:  # iniziamo a controllare tutte le istruzioni della stringa\n",
    "\n",
    "    if d == 'R':\n",
    "      current_x += 1 # ci muoviamo a destra...\n",
    "      if current_x > 2: # ... ma non troppo! Se andiamo troppo a destra, restituiamo errore:\n",
    "        return 'If you start from (0,0), there is no such path...'\n",
    "      else: # se invece non siamo troppo a destra:\n",
    "        if graph[current_x][current_y] == True: # significa che già ci siamo stati, quindi c'è intersezione\n",
    "          return 'If you start from (0,0), there is no such path...'\n",
    "\n",
    "        else: # se invece non ci siamo già stati, lo marchiamo come Visitato\n",
    "          graph[current_x][current_y] = True\n",
    "          counter += 1\n",
    "\n",
    "\n",
    "    # Same thing with the other instructions\n",
    "    elif d == 'L':\n",
    "      current_x -= 1\n",
    "      if current_x < 0:\n",
    "        return 'If you start from (0,0), there is no such path...'\n",
    "      else:\n",
    "        if graph[current_x][current_y] == True:\n",
    "          return 'If you start from (0,0), there is no such path...'\n",
    "\n",
    "        else:\n",
    "          graph[current_x][current_y] = True\n",
    "          counter += 1\n",
    "\n",
    "    elif d == 'U':\n",
    "      current_y -= 1\n",
    "      if current_y < 0:\n",
    "        return 'If you start from (0,0), there is no such path...'\n",
    "      else:\n",
    "        if graph[current_x][current_y] == True:\n",
    "          return 'If you start from (0,0), there is no such path...'\n",
    "\n",
    "        else:\n",
    "          graph[current_x][current_y] = True\n",
    "          counter += 1\n",
    "\n",
    "    elif d == 'D':\n",
    "      current_y += 1\n",
    "      if current_y > 2:\n",
    "        return 'If you start from (0,0), there is no such path...'\n",
    "      else:\n",
    "        if graph[current_x][current_y] == True:\n",
    "          return 'If you start from (0,0), there is no such path...'\n",
    "\n",
    "        else:\n",
    "          graph[current_x][current_y] = True\n",
    "          counter += 1\n",
    "\n",
    "  if counter == len(directions):\n",
    "    return True\n",
    "  else:\n",
    "    return False  \n",
    "\n",
    "count_patterns('DRUL')    "
   ]
  },
  {
   "cell_type": "code",
   "execution_count": 54,
   "metadata": {},
   "outputs": [
    {
     "name": "stdout",
     "output_type": "stream",
     "text": [
      "True\n",
      "True\n",
      "If you start from (0,0), there is no such path...\n",
      "True\n",
      "True\n",
      "If you start from (0,0), there is no such path...\n",
      "If you start from (0,0), there is no such path...\n",
      "If you start from (0,0), there is no such path...\n",
      "If you start from (0,0), there is no such path...\n"
     ]
    }
   ],
   "source": [
    "import itertools\n",
    "x = 0\n",
    "y = 0\n",
    "\n",
    "combinations = []\n",
    "\n",
    "for x_, y_ in itertools.product(range(3), range(3)):\n",
    "  current_x_ = x_\n",
    "  current_y_ = y_\n",
    "  \n",
    "  print(count_patterns('DRU', current_x_, current_y_))"
   ]
  },
  {
   "cell_type": "code",
   "execution_count": 22,
   "metadata": {},
   "outputs": [
    {
     "name": "stdout",
     "output_type": "stream",
     "text": [
      "[(0, 0), (0, 1), (0, 2), (1, 0), (1, 1), (1, 2), (2, 0), (2, 1), (2, 2)]\n"
     ]
    }
   ],
   "source": [
    "# Questo codice però ha un difetto: parteda 0,0. E basta. Quindi mi sa solo dire se il path esiste o meno, non sa dirmi quanti path ci potrebbero essere\n",
    "# Noi vorremmo che, dopo essere partito da 0,0 , provasse anche un altro starting point, in modo da ritornare il numero di possibili path.\n",
    "# Proviamo a implementare un'altra versione del codice che aggiorni gli starting points.\n",
    "\n",
    "# First, I need to store all the combinations of the possible starting points:\n",
    "import itertools\n",
    "x = 0\n",
    "y = 0\n",
    "\n",
    "combinations = []\n",
    "\n",
    "for x_, y_ in itertools.product(range(3), range(3)):\n",
    "  x = x_\n",
    "  y = y_\n",
    "  combinations.append((x, y))\n",
    "\n",
    "print(combinations)  "
   ]
  }
 ],
 "metadata": {
  "kernelspec": {
   "display_name": "Python 3",
   "language": "python",
   "name": "python3"
  },
  "language_info": {
   "codemirror_mode": {
    "name": "ipython",
    "version": 3
   },
   "file_extension": ".py",
   "mimetype": "text/x-python",
   "name": "python",
   "nbconvert_exporter": "python",
   "pygments_lexer": "ipython3",
   "version": "3.11.0"
  },
  "orig_nbformat": 4,
  "vscode": {
   "interpreter": {
    "hash": "aee8b7b246df8f9039afb4144a1f6fd8d2ca17a180786b69acc140d282b71a49"
   }
  }
 },
 "nbformat": 4,
 "nbformat_minor": 2
}
