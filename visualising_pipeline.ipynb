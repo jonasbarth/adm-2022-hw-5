{
 "cells": [
  {
   "cell_type": "code",
   "execution_count": 1,
   "id": "763b873e",
   "metadata": {},
   "outputs": [
    {
     "name": "stderr",
     "output_type": "stream",
     "text": [
      "31-Dec-22 19:05:25 backend.graph.collaborative - Creating collaborative hero graph from a csv file.\n"
     ]
    }
   ],
   "source": [
    "\n",
    "from backend import graph\n",
    "\n",
    "g, graph_type = graph.collaborative.create_from('data/hero-network.csv')"
   ]
  },
  {
   "cell_type": "code",
   "execution_count": 2,
   "id": "95c2ee29",
   "metadata": {},
   "outputs": [],
   "source": [
    "from backend import Controller\n",
    "from frontend import disconnected_graph\n",
    "c = Controller(g)"
   ]
  },
  {
   "cell_type": "code",
   "execution_count": 3,
   "id": "0c38462c",
   "metadata": {},
   "outputs": [
    {
     "name": "stderr",
     "output_type": "stream",
     "text": [
      "31-Dec-22 19:05:31 backend.controller - Calling function \"disconnecting_graphs\".\n",
      "31-Dec-22 19:05:31 backend.controller - Received result from function \"disconnecting_graphs\".\n",
      "31-Dec-22 19:05:31 frontend.visualisations - Starting visualisation of disconnected graph.\n",
      "31-Dec-22 19:05:34 frontend.visualisations - Successfully wrote original graph to: doc/visualisations/disconnected/original_graph.html.\n",
      "31-Dec-22 19:05:34 frontend.visualisations - Successfully wrote disconnected graphs to: doc/visualisations/disconnected/disconnected_graphs.html.\n"
     ]
    }
   ],
   "source": [
    "hero_a = 'SPIDER-MAN/PETER PARKER'\n",
    "hero_b = 'WOLVERINE/LOGAN'\n",
    "disc = c.run('disconnecting_graphs', 25, hero_a=hero_a, hero_b=hero_b)\n",
    "original_graph_path, disconnected_graph_path = disconnected_graph(disc)"
   ]
  },
  {
   "cell_type": "code",
   "execution_count": 4,
   "id": "6f116c1b",
   "metadata": {},
   "outputs": [
    {
     "data": {
      "text/html": [
       "\n",
       "        <iframe\n",
       "            width=\"1000\"\n",
       "            height=\"600\"\n",
       "            src=\"doc/visualisations/disconnected/original_graph.html\"\n",
       "            frameborder=\"0\"\n",
       "            allowfullscreen\n",
       "            \n",
       "        ></iframe>\n",
       "        "
      ],
      "text/plain": [
       "<IPython.lib.display.IFrame at 0x20b35b9ff70>"
      ]
     },
     "execution_count": 4,
     "metadata": {},
     "output_type": "execute_result"
    }
   ],
   "source": [
    "from IPython.display import IFrame\n",
    "\n",
    "IFrame(src=original_graph_path, width=1000, height=600)"
   ]
  },
  {
   "cell_type": "code",
   "execution_count": 5,
   "id": "f8ec5c01",
   "metadata": {},
   "outputs": [
    {
     "data": {
      "text/html": [
       "\n",
       "        <iframe\n",
       "            width=\"1000\"\n",
       "            height=\"600\"\n",
       "            src=\"doc/visualisations/disconnected/disconnected_graphs.html\"\n",
       "            frameborder=\"0\"\n",
       "            allowfullscreen\n",
       "            \n",
       "        ></iframe>\n",
       "        "
      ],
      "text/plain": [
       "<IPython.lib.display.IFrame at 0x20b503b3910>"
      ]
     },
     "execution_count": 5,
     "metadata": {},
     "output_type": "execute_result"
    }
   ],
   "source": [
    "from IPython.display import IFrame\n",
    "\n",
    "IFrame(src=disconnected_graph_path, width=1000, height=600)"
   ]
  }
 ],
 "metadata": {
  "kernelspec": {
   "display_name": "Python 3 (ipykernel)",
   "language": "python",
   "name": "python3"
  },
  "language_info": {
   "codemirror_mode": {
    "name": "ipython",
    "version": 3
   },
   "file_extension": ".py",
   "mimetype": "text/x-python",
   "name": "python",
   "nbconvert_exporter": "python",
   "pygments_lexer": "ipython3",
   "version": "3.9.0"
  }
 },
 "nbformat": 4,
 "nbformat_minor": 5
}
