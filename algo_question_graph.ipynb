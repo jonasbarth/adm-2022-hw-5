{
 "cells": [
  {
   "cell_type": "markdown",
   "id": "a9f0b5ae",
   "metadata": {},
   "source": [
    "# Algorithmic Question - MultiDiGraph\n",
    "\n",
    "## Data Structure\n",
    "This solution to the algorithmic question uses a **MultiDiGraph**:\n",
    "* multi - multiple edges between nodes\n",
    "* di - directed\n",
    "\n",
    "The idea is that the **poly-line** in the **3 by 3 password grid** can be represented as a **MultiDiGraph**. Each point in the password grid is a **node**, and each line that can be drawn from a point to another is an **edge**. Because only vertical and horizontal lines are allowed, this gives a graph with **9 nodes** and **24 edges**. \n",
    "\n",
    "![password_grid_graph](doc/q_algo_multidigraph.png)\n",
    "\n",
    "For example, if we start from **node 0**, we can go to **node 1** or **node 3**. Additionally, each edge has a label `direction` with a single character `{'D', 'U', 'L', 'R'}` which indicates the direction that the edge is going to. For example, the edge **(0, 1)** is labeled with `direction=R`, but the edge **(1, 0)** is labelled with `direction=L`."
   ]
  },
  {
   "cell_type": "markdown",
   "id": "22552a0f",
   "metadata": {},
   "source": [
    "## Creating the Graph\n",
    "As a first step, we have to create the graph. We have to add **9 nodes** and **24 edges**. Creating the edges requires to determine the neighbours of each node in the graph and which direction they should be assigned."
   ]
  },
  {
   "cell_type": "code",
   "execution_count": 195,
   "id": "d9f4d260",
   "metadata": {},
   "outputs": [],
   "source": [
    "import networkx as nx\n",
    "g = nx.MultiDiGraph()\n",
    "g.add_nodes_from(range(9))"
   ]
  },
  {
   "cell_type": "markdown",
   "id": "ab0f864a",
   "metadata": {},
   "source": [
    "### Neighbours\n",
    "We know that **0** should be connected to **1** and to **3**. To determine that **1** and **3** are the neighbours of **0**, we have a 3 by 3 numpy array which represents the password grid. By adding a delta of **(0, 1)** to the **row** and **column** of **0** we know that we will be moving to the right, as the **column** value is increased by 1 but the row value remains the same.\n",
    "\n",
    "```python\n",
    "0_row_col = (0, 0)\n",
    "right_neighbour = 0_row_col + (0, 1) # the row and column of the neighbour to the right\n",
    "```\n",
    "\n",
    "By doing this for all 4 directions and only keeping those neighbours that are also in the grid, e.g. moving to the left of **node 0** is not possible, we end up with all of the edges that we need."
   ]
  },
  {
   "cell_type": "code",
   "execution_count": 171,
   "id": "347f01ce",
   "metadata": {},
   "outputs": [],
   "source": [
    "nodes = np.arange(9).reshape((3, 3))\n",
    "valid_coords = [(x, y) for x in range(nodes.shape[0]) for y in range(nodes.shape[1])]"
   ]
  },
  {
   "cell_type": "code",
   "execution_count": 173,
   "id": "95b9b573",
   "metadata": {},
   "outputs": [],
   "source": [
    "def neighbours(n, nodes):\n",
    "    \"\"\"Determines the neighbours of n in the nodes array.\n",
    "    \n",
    "    :arg\n",
    "    n - the node to find neighbours for\n",
    "    nodes - a numpy array.\n",
    "    \n",
    "    :return\n",
    "    a generator with the neighbouring nodes and their directions.\n",
    "    \n",
    "    Example:\n",
    "    list(neighbours(4, nodes))\n",
    "    [(5, 'R'), (3, 'L'), (7, 'D'), (1, 'U')]\n",
    "    \"\"\"\n",
    "    neighs = []\n",
    "    row_col = np.array(np.where(nodes == n)).flatten()\n",
    "    \n",
    "    for delta, direction in [((0, 1), 'R'), ((0, -1), 'L'), ((1, 0), 'D'), ((-1, 0), 'U')]:\n",
    "        \n",
    "        new_row_col = tuple(row_col + delta)\n",
    "        if new_row_col in valid_coords:\n",
    "            yield nodes[new_row_col], direction"
   ]
  },
  {
   "cell_type": "markdown",
   "id": "611a3cb6",
   "metadata": {},
   "source": [
    "Find the neighbours for each node in the graph, and add them as edges one by one."
   ]
  },
  {
   "cell_type": "code",
   "execution_count": 207,
   "id": "de58cd8d",
   "metadata": {},
   "outputs": [],
   "source": [
    "for node in g.nodes():\n",
    "    for neighbour, direction in neighbours(node, nodes):\n",
    "        g.add_edge(node, neighbour, direction=direction)"
   ]
  },
  {
   "cell_type": "code",
   "execution_count": 194,
   "id": "0f56424e",
   "metadata": {},
   "outputs": [
    {
     "data": {
      "image/png": "[encoded data removed]",
      "text/plain": [
       "<Figure size 640x480 with 1 Axes>"
      ]
     },
     "metadata": {},
     "output_type": "display_data"
    }
   ],
   "source": [
    "nx.draw(g, with_labels=True)"
   ]
  },
  {
   "cell_type": "markdown",
   "id": "dedac5b9",
   "metadata": {},
   "source": [
    "## Finding all direction sequences\n",
    "The input is a single string that shows **just** the direction of the segment lines, i.e. **D** can mean to go down **one** node or **two** nodes. If we find **all possible sequences of directions** from the input, we can then use those to traverse the graph and see whether we manage to follow the sequence without revisiting nodes or trying to go into a direction that is not possible.\n",
    "\n",
    "For example, the string `DRU` gives the following possible sequences:\n",
    "```\n",
    "['DRU', 'DRUU', 'DRRU', 'DRRUU', 'DDRU', 'DDRUU', 'DDRRU', 'DDRRUU']\n",
    "```\n",
    "\n"
   ]
  },
  {
   "cell_type": "code",
   "execution_count": 196,
   "id": "d73b40e9",
   "metadata": {},
   "outputs": [],
   "source": [
    "def all_sequences(directions, max_steps=2):\n",
    "    \"\"\"Finds all possible sequences given a string of directions.\n",
    "    \n",
    "    :arg\n",
    "    directions (str) - the directions\n",
    "    max_steps (int) - determines the number of possible steps that you can take in a single direction.\n",
    "    \n",
    "    :return\n",
    "    a generator with a single sequence.\n",
    "    \"\"\"\n",
    "    steps = []\n",
    "    for direction in directions:\n",
    "        step = [(i + 1)* direction for i in range(max_steps)]\n",
    "        steps.append(tuple(step))\n",
    "        \n",
    "    indeces = list(itertools.product(range(2), repeat=len(directions)))\n",
    "    all_steps = []\n",
    "    for ind in indeces:\n",
    "        step = []\n",
    "        for i, s in zip(ind, range(len(steps))):\n",
    "            step.append(steps[s][i])\n",
    "            \n",
    "        yield \"\".join(step)"
   ]
  },
  {
   "cell_type": "markdown",
   "id": "7314c832",
   "metadata": {},
   "source": [
    "## The Algorithm\n",
    "To find solutions from an input string, we need to try to walk **all possible sequences** starting from **all nodes in the graph**. If we are able to finish a walk, we increment our count by one."
   ]
  },
  {
   "cell_type": "code",
   "execution_count": 212,
   "id": "87a84cfc",
   "metadata": {},
   "outputs": [
    {
     "data": {
      "text/plain": [
       "15"
      ]
     },
     "execution_count": 212,
     "metadata": {},
     "output_type": "execute_result"
    }
   ],
   "source": [
    "solutions = 0\n",
    "\n",
    "for steps in all_sequences('DRU'):\n",
    "    for start in g.nodes():\n",
    "        \n",
    "        current_node = start\n",
    "        steps_path = list(steps)\n",
    "        visited = {current_node}\n",
    "        \n",
    "        while steps_path:\n",
    "            \n",
    "            step = steps_path[0]\n",
    "            edge = list(filter(lambda e: e[-1] == step, g.out_edges(current_node, data='direction')))\n",
    "            \n",
    "            # if there is an edge to take into the next direction and we haven't visited the node on the other side of the edge\n",
    "            # so far.\n",
    "            if edge and edge[0][1] not in visited:\n",
    "                # move to the next node\n",
    "                current_node = edge[0][1]\n",
    "                visited.add(current_node)\n",
    "                steps_path.pop(0)\n",
    "            \n",
    "            else:\n",
    "                # it is not possible to take the next direction or we have visited a node already, so the path is not possible\n",
    "                break\n",
    "        if not steps_path:\n",
    "            solutions += 1\n",
    "solutions"
   ]
  }
 ],
 "metadata": {
  "kernelspec": {
   "display_name": "Python 3 (ipykernel)",
   "language": "python",
   "name": "python3"
  },
  "language_info": {
   "codemirror_mode": {
    "name": "ipython",
    "version": 3
   },
   "file_extension": ".py",
   "mimetype": "text/x-python",
   "name": "python",
   "nbconvert_exporter": "python",
   "pygments_lexer": "ipython3",
   "version": "3.9.0"
  }
 },
 "nbformat": 4,
 "nbformat_minor": 5
}
