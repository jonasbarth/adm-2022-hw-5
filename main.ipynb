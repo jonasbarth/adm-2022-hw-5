{
 "cells": [
  {
   "cell_type": "markdown",
   "id": "8bc6e7a4",
   "metadata": {},
   "source": [
    "# Marvel Superheroes - Group 14\n",
    "\n",
    "## Group Members\n",
    "* Simone Facchiano\n",
    "* Stefano Lacommare\n",
    "* Jonas Barth\n",
    "\n",
    "# Index\n",
    "\n",
    "* [Graph Setup](#Graph-Setup)\n",
    "    * [Collaborative Graph](#Collaborative-Graph)\n",
    "    * [Hero-Comic Graph](#Hero-Comic-Graph)\n",
    "* [Hero Graph Features](#hero-graph-features)\n",
    "    * [Functionality](#1.-Functionality)\n",
    "    * [Visualisation](#1.-Visualisation)\n",
    "* [Find Top Superheroes](#find-top-superheroes)\n",
    "    * [Functionality](#2-functionality)\n",
    "    * [Visualisation](#2-visualisation)\n",
    "* [Shortest Ordered Route](#shortest-ordered-route)\n",
    "    * [Functionality](#3-functionality)\n",
    "    * [Visualisation](#3-visualisation)\n",
    "* [Disconnecting Graphs](#disconnecting-graphs)\n",
    "    * [Functionality](#4.-Functionality)\n",
    "    * [Visualisation](#4.-Visualisation)\n",
    "* [Exctracting Communities](#extracting-communities)\n",
    "    * [Functionality](#5-functionality)\n",
    "    * [Visualisation](#5-visualisation)"
   ]
  },
  {
   "cell_type": "markdown",
   "id": "191d8546",
   "metadata": {},
   "source": [
    "Turn off the logging messages in the notebook"
   ]
  },
  {
   "cell_type": "code",
   "execution_count": 35,
   "id": "376897c8",
   "metadata": {},
   "outputs": [],
   "source": [
    "import logging, sys\n",
    "logging.disable(sys.maxsize)"
   ]
  },
  {
   "cell_type": "markdown",
   "id": "9e243403",
   "metadata": {},
   "source": [
    "# Graph Setup"
   ]
  },
  {
   "cell_type": "markdown",
   "id": "fe9ccee3",
   "metadata": {},
   "source": [
    "## Collaborative Graph"
   ]
  },
  {
   "cell_type": "code",
   "execution_count": 36,
   "id": "dca8359d",
   "metadata": {},
   "outputs": [],
   "source": [
    "import backend.graph.collaborative as collaborative\n",
    "\n",
    "collab_graph, collab_graph_type = collaborative.create_from(data='data/hero-network.csv')"
   ]
  },
  {
   "cell_type": "markdown",
   "id": "bce04d63",
   "metadata": {},
   "source": [
    "## Hero-Comic Graph"
   ]
  },
  {
   "cell_type": "code",
   "execution_count": 37,
   "id": "7965d728",
   "metadata": {},
   "outputs": [],
   "source": [
    "import backend.graph.hero_comic as hero_comic\n",
    "\n",
    "hero_comic_graph, hero_comic_graph_type = hero_comic.create_from(nodes='data/nodes.csv', edges='data/edges.csv')    "
   ]
  },
  {
   "cell_type": "markdown",
   "id": "6926f992",
   "metadata": {},
   "source": [
    "# Controller\n",
    "We create **one** controller **per graph**. The [controller class](backend/controller.py) has a `run` method that receives:\n",
    "- names of functionalities\n",
    "- `top_n` for the top N heroes to consider\n",
    "- a number of keyword arguments that depend on the functionality. \n",
    "\n",
    "The `run` method runs the functionality on the graph that is assigned to the class and returns the result."
   ]
  },
  {
   "cell_type": "code",
   "execution_count": 38,
   "id": "115fe0b1",
   "metadata": {},
   "outputs": [],
   "source": [
    "from backend import Controller\n",
    "\n",
    "collab_controller = Controller(collab_graph)\n",
    "hero_comic_controller = Controller(hero_comic_graph)"
   ]
  },
  {
   "cell_type": "markdown",
   "id": "dc4acb1c",
   "metadata": {},
   "source": [
    "# Features\n",
    "\n",
    "## 1. Functionality\n",
    "The `features` method will return a [GraphFeatures](backend/describe/graph) instance that contains:\n",
    "- the graph type of the graph.\n",
    "- the number of nodes in the graph.\n",
    "- a set of hero collaboration.\n",
    "- a list of Comic classes that with information about the number of heroes inside them.\n",
    "- the density of the graph.\n",
    "- the distribution of degrees across the graph.\n",
    "- the average degree in the graph.\n",
    "- a set of hubs in the graph.\n",
    "- the mode of the graph, whether it is sparse or dense."
   ]
  },
  {
   "cell_type": "code",
   "execution_count": 39,
   "id": "be21f009",
   "metadata": {},
   "outputs": [],
   "source": [
    "collab_features = collab_controller.run('features', top_n=25, graph_type=collab_graph_type)\n",
    "hero_comic_features = hero_comic_controller.run('features', top_n=25, graph_type=hero_comic_graph_type)"
   ]
  },
  {
   "cell_type": "markdown",
   "id": "31d29ce0",
   "metadata": {},
   "source": [
    "## 2. Visualisation"
   ]
  },
  {
   "cell_type": "markdown",
   "id": "522fa3e3",
   "metadata": {},
   "source": [
    "# Disconnecting Graph\n",
    "\n",
    "## 4. Functionality\n",
    "We run the `disconnected_graphs` functionality with the two heroes **SPIDER-MAN/PETER PARKER** and **WOLVERINE/LOGAN**, for the **top 25** heroes. The functionality returns a [Disconnection](backend/domain/disconnection.py) object object that contains:\n",
    "* the edges that were disconnected\n",
    "* the cumulative weight of the disconnected edges\n",
    "* the original graph\n",
    "* the hero_a\n",
    "* the hero_b \n",
    "* the graph_a that contains hero_a\n",
    "* the graph_b that contains hero_b"
   ]
  },
  {
   "cell_type": "code",
   "execution_count": 40,
   "id": "dd6b0d9b",
   "metadata": {},
   "outputs": [],
   "source": [
    "hero_a = 'SPIDER-MAN/PETER PARKER'\n",
    "hero_b = 'WOLVERINE/LOGAN'\n",
    "\n",
    "disconnection = collab_controller.run('disconnecting_graphs', top_n=25, hero_a=hero_a, hero_b=hero_b)"
   ]
  },
  {
   "cell_type": "markdown",
   "id": "b333120c",
   "metadata": {},
   "source": [
    "## 4. Visualisation"
   ]
  },
  {
   "cell_type": "markdown",
   "id": "b520a943",
   "metadata": {},
   "source": [
    "The `disconnected_graph` function from our `frontend` package uses the `disconnection` object to create two `pyvis` graphs and save them as `.html` files. We can then load these files and display them with the help of an `IPython IFrame`."
   ]
  },
  {
   "cell_type": "code",
   "execution_count": 41,
   "id": "0c38462c",
   "metadata": {},
   "outputs": [],
   "source": [
    "from frontend import disconnected_graph\n",
    "\n",
    "message, original_graph_path, disconnected_graph_path = disconnected_graph(disconnection)"
   ]
  },
  {
   "cell_type": "markdown",
   "id": "fa68e46a",
   "metadata": {},
   "source": [
    "### Number of Links "
   ]
  },
  {
   "cell_type": "code",
   "execution_count": 42,
   "id": "8501392e",
   "metadata": {},
   "outputs": [
    {
     "name": "stdout",
     "output_type": "stream",
     "text": [
      "The number of edges that were removed from the original graph is: 24\n"
     ]
    }
   ],
   "source": [
    "print(message)"
   ]
  },
  {
   "cell_type": "markdown",
   "id": "bb3f8d3b",
   "metadata": {},
   "source": [
    "### The Original Graph\n",
    "The original graph with the top 25 heroes is a complete graph."
   ]
  },
  {
   "cell_type": "code",
   "execution_count": 43,
   "id": "6f116c1b",
   "metadata": {},
   "outputs": [
    {
     "data": {
      "text/html": [
       "\n",
       "        <iframe\n",
       "            width=\"1000\"\n",
       "            height=\"600\"\n",
       "            src=\"doc/visualisations/disconnected/original_graph.html\"\n",
       "            frameborder=\"0\"\n",
       "            allowfullscreen\n",
       "            \n",
       "        ></iframe>\n",
       "        "
      ],
      "text/plain": [
       "<IPython.lib.display.IFrame at 0x22f54476190>"
      ]
     },
     "execution_count": 43,
     "metadata": {},
     "output_type": "execute_result"
    }
   ],
   "source": [
    "from IPython.display import IFrame\n",
    "\n",
    "IFrame(src=original_graph_path, width=1000, height=600)"
   ]
  },
  {
   "cell_type": "markdown",
   "id": "26b28553",
   "metadata": {},
   "source": [
    "### The Disconnected Graph"
   ]
  },
  {
   "cell_type": "markdown",
   "id": "815a7828",
   "metadata": {},
   "source": [
    "Because the original graph with the top 25 heroes is a complete graph (density is equal to 1), when disconnecting them we will end up with a complete graph with 24 heroes and a graph with only a single node."
   ]
  },
  {
   "cell_type": "code",
   "execution_count": 44,
   "id": "72b0e2df",
   "metadata": {},
   "outputs": [
    {
     "data": {
      "text/plain": [
       "1.0"
      ]
     },
     "execution_count": 44,
     "metadata": {},
     "output_type": "execute_result"
    }
   ],
   "source": [
    "import networkx as nx\n",
    "nx.density(disconnection.original_graph)"
   ]
  },
  {
   "cell_type": "code",
   "execution_count": 45,
   "id": "f8ec5c01",
   "metadata": {
    "scrolled": true
   },
   "outputs": [
    {
     "data": {
      "text/html": [
       "\n",
       "        <iframe\n",
       "            width=\"1000\"\n",
       "            height=\"600\"\n",
       "            src=\"doc/visualisations/disconnected/disconnected_graphs.html\"\n",
       "            frameborder=\"0\"\n",
       "            allowfullscreen\n",
       "            \n",
       "        ></iframe>\n",
       "        "
      ],
      "text/plain": [
       "<IPython.lib.display.IFrame at 0x22f544760a0>"
      ]
     },
     "execution_count": 45,
     "metadata": {},
     "output_type": "execute_result"
    }
   ],
   "source": [
    "from IPython.display import IFrame\n",
    "\n",
    "IFrame(src=disconnected_graph_path, width=1000, height=600)"
   ]
  }
 ],
 "metadata": {
  "kernelspec": {
   "display_name": "Python 3 (ipykernel)",
   "language": "python",
   "name": "python3"
  },
  "language_info": {
   "codemirror_mode": {
    "name": "ipython",
    "version": 3
   },
   "file_extension": ".py",
   "mimetype": "text/x-python",
   "name": "python",
   "nbconvert_exporter": "python",
   "pygments_lexer": "ipython3",
   "version": "3.9.0"
  }
 },
 "nbformat": 4,
 "nbformat_minor": 5
}
