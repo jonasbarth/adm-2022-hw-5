{
 "cells": [
  {
   "cell_type": "markdown",
   "id": "69d90346",
   "metadata": {},
   "source": [
    "# Marvel Superheroes - Group 14\n",
    "\n",
    "## Group Members\n",
    "* Simone Facchiano\n",
    "* Stefano Lacommare\n",
    "* Jonas Barth\n",
    "\n",
    "# Index\n",
    "\n",
    "* [Graph Setup](#Graph-Setup)\n",
    "    * [Collaborative Graph](#Collaborative-Graph)\n",
    "    * [Hero-Comic Graph](#Hero-Comic-Graph)\n",
    "* [Features](#1.-Features)\n",
    "    * [Functionality](#1.1-Functionality)\n",
    "    * [Visualisation](#1.2-Visualisation)\n",
    "* [Find Top Superheroes](#2.-Find-Top-Superheroes)\n",
    "    * [Functionality](#2.1-Functionality)\n",
    "    * [Visualisation](#2.2-Visualisation)\n",
    "* [Shortest Ordered Route](#3.-Shortest-Ordered-Route)\n",
    "    * [Functionality](#3.1-Functionality)\n",
    "    * [Visualisation](#3.2-Visualisation)\n",
    "* [Disconnecting Graphs](#4.-Disconnecting-Graphs)\n",
    "    * [Functionality](#4.1-Functionality)\n",
    "    * [Visualisation](#4.2-Visualisation)\n",
    "* [Exctracting Communities](#5.-Extracting-Communities)\n",
    "    * [Functionality](#5.1-Functionality)\n",
    "    * [Visualisation](#5.2-Visualisation)\n",
    "* [Algorithmic Question](#Algorithmic-Question)"
   ]
  },
  {
   "cell_type": "markdown",
   "id": "de93fffb",
   "metadata": {},
   "source": [
    "Turn off the logging messages in the notebook"
   ]
  },
  {
   "cell_type": "code",
   "execution_count": null,
   "id": "ad6c0ff8",
   "metadata": {},
   "outputs": [],
   "source": [
    "import logging, sys\n",
    "logging.disable(sys.maxsize)"
   ]
  },
  {
   "cell_type": "markdown",
   "id": "f0ce06f4",
   "metadata": {},
   "source": [
    "Use `itables` to make displayed pandas dataframes interactive. "
   ]
  },
  {
   "cell_type": "code",
   "execution_count": null,
   "id": "446ab11e",
   "metadata": {},
   "outputs": [],
   "source": [
    "from itables import init_notebook_mode\n",
    "init_notebook_mode(all_interactive=True)"
   ]
  },
  {
   "cell_type": "markdown",
   "id": "4be7bf14",
   "metadata": {},
   "source": [
    "# Hero Service Setup\n",
    "The [hero service](backend/service) is a class that exposes information about the **top N** heroes. It only needs to be created **ONCE** at the beginning of the program. Functionalities that need to use this hero service can now access it."
   ]
  },
  {
   "cell_type": "code",
   "execution_count": null,
   "id": "33ac1a40",
   "metadata": {},
   "outputs": [],
   "source": [
    "from backend import create_hero_service\n",
    "\n",
    "create_hero_service(data='data/edges.csv')"
   ]
  },
  {
   "cell_type": "markdown",
   "id": "267dd5d0",
   "metadata": {},
   "source": [
    "# Graph Setup\n",
    "The graphs are created in the [backend/graph](backend/graph) package. Within this package, there are **two** modules:\n",
    "- [collaborative](backend/graph/collaborative.py) for creating graphs where heroes are linked to heroes (first graph).\n",
    "- [hero-comic](backend/graph/hero_comic.py) for creating graphs where heroes are linked to comics (second graph).\n",
    "\n",
    "Graphs are easily created using the `create_from` function, which can create `networkx` graphs from `.csv` files or `pandas` dataframes. The function returns a tuple of the created graph and its graph type, **collaborative** or **hero-comic**. The function also applies a number of preprocessing steps to the provided data."
   ]
  },
  {
   "cell_type": "markdown",
   "id": "e052057a",
   "metadata": {},
   "source": [
    "## Collaborative Graph\n",
    "\n",
    "### Preprocessing\n",
    "The `create_from` function for the collaborative graph applies the following preprocessing steps:\n",
    "\n",
    "1. remove self loops from the data.\n",
    "1. strip trailing whitespace and `/` from heroes, e.g. `IRONMAN/TONY STARK/` becomes `IRONMAN/TONY STARK`.\n",
    "1. replace `SPIDER-MAN/PETER PAR` with `SPIDER-MAN/PETER PARKER`.\n",
    "\n",
    "### Weight\n",
    "The collaborative graph is a **weighted** graph, where the weight between the heroes is relative to the **number of collaborations** between them. We have a [weight](backend/graph/weight.py) module with several functions that calculate weights for the edges. The one we chose, will normalise weights into $[0, 1]$ where numbers close to $0$ represent more collaborations between the two heroes that share the edge. \n",
    "\n",
    "The equation shows the limit of the weight function that we use. As the number of collaborations $n$ grows to infinity, the weight function will go to $0$ as we subtract the proportion of $n$ over the maximum number of collaborations $max(N)$, where $N$ is the set of all numbers of collaborations.\n",
    "$$\\lim_{n\\to\\infty} 1 - \\frac{n}{max(N) + 1} = 0$$\n",
    "\n",
    "### Other attributes\n",
    "In addition to the weight, each edge also has an attribute that specifies the number of collaborations that the two heroes have.\n",
    "\n",
    "---\n",
    "\n",
    "We create the graph from the `hero-network.csv` file."
   ]
  },
  {
   "cell_type": "code",
   "execution_count": null,
   "id": "e180dfb8",
   "metadata": {},
   "outputs": [],
   "source": [
    "import backend.graph.collaborative as collaborative\n",
    "import backend.graph.weight as weight\n",
    "\n",
    "collab_graph, collab_graph_type = collaborative.create_from(data='data/hero-network.csv', weight=weight.max_prop)"
   ]
  },
  {
   "cell_type": "markdown",
   "id": "594a49f8",
   "metadata": {},
   "source": [
    "## Hero-Comic Graph\n",
    "The `create_from` function for the hero-comic graph applies the following preprocessing steps:\n",
    "\n",
    "1. strip trailing whitespace and / from heroes\n",
    "1. replace `SPIDER-MAN/PETER PARKERKER` with `SPIDER-MAN/PETER PARKER`.\n",
    "\n",
    "The returned graph is a `networkx` graph object with heroes linked to comics. We create the graph from the `nodes.csv` and `edges.csv` files."
   ]
  },
  {
   "cell_type": "code",
   "execution_count": null,
   "id": "34182ef1",
   "metadata": {},
   "outputs": [],
   "source": [
    "import backend.graph.hero_comic as hero_comic\n",
    "\n",
    "hero_comic_graph, hero_comic_graph_type = hero_comic.create_from(nodes='data/nodes.csv', edges='data/edges.csv')    "
   ]
  },
  {
   "cell_type": "markdown",
   "id": "e5749b3c",
   "metadata": {},
   "source": [
    "# Controller\n",
    "We create **one** controller **per graph**. The [controller class](backend/controller.py) has a `run` method that receives:\n",
    "- names of functionalities\n",
    "- `top_n` for the top N heroes to consider\n",
    "- a number of keyword arguments that depend on the functionality. \n",
    "\n",
    "The `run` method runs the functionality on the graph that is assigned to the class and returns the result."
   ]
  },
  {
   "cell_type": "code",
   "execution_count": null,
   "id": "03cad750",
   "metadata": {},
   "outputs": [],
   "source": [
    "from backend import Controller\n",
    "\n",
    "collab_controller = Controller(collab_graph)\n",
    "hero_comic_controller = Controller(hero_comic_graph)"
   ]
  },
  {
   "cell_type": "markdown",
   "id": "46766bd3",
   "metadata": {},
   "source": [
    "# 1. Features\n",
    "\n",
    "## 1.1 Functionality\n",
    "The `features` method will return a [GraphFeatures](backend/describe/graph) instance that contains:\n",
    "- the graph type of the graph.\n",
    "- the number of nodes in the graph.\n",
    "- a set of hero collaboration.\n",
    "- a list of Comic classes that with information about the number of heroes inside them.\n",
    "- the density of the graph.\n",
    "- the distribution of degrees across the graph.\n",
    "- the average degree in the graph.\n",
    "- a set of hubs in the graph.\n",
    "- the mode of the graph, whether it is sparse or dense.\n",
    "\n",
    "We run the method for the **top 25** heroes."
   ]
  },
  {
   "cell_type": "code",
   "execution_count": null,
   "id": "6e569ef4",
   "metadata": {},
   "outputs": [],
   "source": [
    "collab_features = collab_controller.run('features', top_n=25, graph_type=collab_graph_type)\n",
    "hero_comic_features = hero_comic_controller.run('features', top_n=25, graph_type=hero_comic_graph_type)"
   ]
  },
  {
   "cell_type": "markdown",
   "id": "5bb59f5b",
   "metadata": {},
   "source": [
    "## 1.2 Visualisation\n",
    "The `visualise_features` function takes in a [GraphFeatures](backend/describe/graph.py) object and prints out its contents. When visualising the features of the graph for the **top 25 nodes**, we see that it is a **complete graph** from the fact that:\n",
    "\n",
    "* the density is the maximum, i.e. 1.0\n",
    "* the average degree is 24, meaning that every hero is connected to all heroes in the graph.\n",
    "\n",
    "This also means that the **hubs** of the graph are **all** nodes in the graph, and that the degree distribution is **discrete uniform**."
   ]
  },
  {
   "cell_type": "code",
   "execution_count": null,
   "id": "2ef96357",
   "metadata": {},
   "outputs": [],
   "source": [
    "from frontend import visualise_features\n",
    "\n",
    "visualise_features(collab_features)"
   ]
  },
  {
   "cell_type": "markdown",
   "id": "20ea4f2e",
   "metadata": {},
   "source": [
    "# 2. Find Top Superheroes"
   ]
  },
  {
   "cell_type": "markdown",
   "id": "f0d57f14",
   "metadata": {},
   "source": [
    "## 2.1 Functionality"
   ]
  },
  {
   "cell_type": "markdown",
   "id": "e0b93bae",
   "metadata": {},
   "source": [
    "This function takes in input a graph, a specific node, the metric we want to use and the number of top heros we want to analyze. The function will return the metric values for the top N heros and in particular for the selected node. The metrics that you can choose are betweenness centrality, pagerank, closeness centrality and degree centrality."
   ]
  },
  {
   "cell_type": "code",
   "execution_count": null,
   "id": "a2c68044",
   "metadata": {},
   "outputs": [],
   "source": [
    "metric = 'betweenness_centrality'\n",
    "graph_metrics, node_metrics = collab_controller.run('metrics', top_n=50, node='WOLVERINE/LOGAN', metric=metric)"
   ]
  },
  {
   "cell_type": "markdown",
   "id": "d084f46c",
   "metadata": {},
   "source": [
    "**Betweenness centrality** is a measure of how often a node acts as a bridge along the shortest path between two other nodes. A high betweenness centrality value suggests that the node is influential in connecting other nodes in the graph instead, if it's low, it may mean that the user is less connected to other nodes in the network.\n",
    "\n",
    "A node with a high **PageRank** score is considered more important than a node with a low score and it may mean that they are influential within the network and are frequently linked to by other nodes.\n",
    "\n",
    "A node with a high **closeness centrality** is able to reach other nodes in the graph more quickly than a node with a low closeness centrality so it may mean that they are well-connected to other nodes and have a central role within the network.\n",
    "\n",
    "**Degree centrality** is a measure of how many other nodes a node is connected to so a node with a high degree centrality means that is well-connected within the network and has many connections to other nodes.\n",
    "\n",
    "For example an high PageRank value and, at the same time, a low betweenness centrality, may mean that it's an important hero within the Marvel universe, but may not play as significant a role in connecting other heroes or groups within the network."
   ]
  },
  {
   "cell_type": "markdown",
   "id": "2c28f346",
   "metadata": {},
   "source": [
    "## 2.2 Visualisation\n",
    "In the table below, we see the average betweenness centrality for the top 50 heroes and for WOLVERINE/LOGAN. The value is higher for WOLVERINE/LOGAN."
   ]
  },
  {
   "cell_type": "code",
   "execution_count": null,
   "id": "cd16858e",
   "metadata": {},
   "outputs": [],
   "source": [
    "from frontend import visualise_metrics\n",
    "\n",
    "visualise_metrics(graph_metrics=graph_metrics, node_metrics=node_metrics, metric=metric)"
   ]
  },
  {
   "cell_type": "markdown",
   "id": "962b7511",
   "metadata": {},
   "source": [
    "# 3. Shortest Ordered Route"
   ]
  },
  {
   "cell_type": "markdown",
   "id": "15d50d80",
   "metadata": {},
   "source": [
    "## 3.1 Functionality"
   ]
  },
  {
   "cell_type": "markdown",
   "id": "c6211c79",
   "metadata": {},
   "source": [
    "We want to find the minimum path between two heroes in terms of comics, with the constraint that we must visit, in order, other intermediate nodes. <br>\n",
    "\n",
    "To implement this algorithm, we split the problem into smaller problems, searching for the minimum path between Node_0 and Node_1, then between Node_1 and Node_2, and so on, until we reach Node_n. <br>\n",
    "This algorithm fails only in the case where the graph is disconnected, in which case it reports an error. <br>\n",
    "\n",
    "In the visualization part, we report the information we are interested in. Specifically, we print on the screen the comic books that we will have to read if we want to meet our heroes in the given order, and then we plot a graph containing the hero-comic book connections in question. <br>"
   ]
  },
  {
   "cell_type": "code",
   "execution_count": null,
   "id": "272d5200",
   "metadata": {},
   "outputs": [],
   "source": [
    "shortest_path = hero_comic_controller.run('shortest_order_route', top_n=100, initial_hero = 'SPIDER-MAN/PETER PARKER', final_hero = 'CYCLOPS/SCOTT SUMMER', superheroes = [\"BLACK WIDOW/NATASHA\",'CAPTAIN AMERICA', 'HUMAN TORCH/JOHNNY S', 'HULK/DR. ROBERT BRUC'], hero_comic =  'data/edges.csv')"
   ]
  },
  {
   "cell_type": "markdown",
   "id": "2035d0c9",
   "metadata": {},
   "source": [
    "## 3.2 Visualisation"
   ]
  },
  {
   "cell_type": "code",
   "execution_count": null,
   "id": "8d6522df",
   "metadata": {},
   "outputs": [],
   "source": [
    "from frontend import visualize_shortest_path\n",
    "\n",
    "visualize_shortest_path(shortest_path)"
   ]
  },
  {
   "cell_type": "markdown",
   "id": "a5238fda",
   "metadata": {},
   "source": [
    "# 4. Disconnecting Graphs\n",
    "\n",
    "## 4.1 Functionality\n",
    "We run the `disconnected_graphs` functionality with the two heroes **SPIDER-MAN/PETER PARKER** and **WOLVERINE/LOGAN**, for the **top 25** heroes. The functionality returns a [Disconnection](backend/domain/disconnection.py) object object that contains:\n",
    "* the edges that were disconnected\n",
    "* the cumulative weight of the disconnected edges\n",
    "* the original graph\n",
    "* the hero_a\n",
    "* the hero_b \n",
    "* the graph_a that contains hero_a\n",
    "* the graph_b that contains hero_b"
   ]
  },
  {
   "cell_type": "code",
   "execution_count": null,
   "id": "e78f7c72",
   "metadata": {},
   "outputs": [],
   "source": [
    "hero_a = 'SPIDER-MAN/PETER PARKER'\n",
    "hero_b = 'WOLVERINE/LOGAN'\n",
    "\n",
    "disconnection = collab_controller.run('disconnecting_graphs', top_n=25, hero_a=hero_a, hero_b=hero_b)"
   ]
  },
  {
   "cell_type": "markdown",
   "id": "d17f7089",
   "metadata": {},
   "source": [
    "## 4.2 Visualisation"
   ]
  },
  {
   "cell_type": "markdown",
   "id": "b2fc0e92",
   "metadata": {},
   "source": [
    "The `disconnected_graph` function from our `frontend` package uses the `disconnection` object to create two `pyvis` graphs and save them as `.html` files. We can then load these files and display them with the help of an `IPython IFrame`.\n",
    "\n",
    "### Interactivity\n",
    "You can drag the entire graph or individual nodes with your mouse. Scrolling down the `IFrame` you will find some options that let you set aspects of the graph, e.g. the **label size** of the nodes."
   ]
  },
  {
   "cell_type": "code",
   "execution_count": null,
   "id": "0c38462c",
   "metadata": {},
   "outputs": [],
   "source": [
    "from frontend import visualise_disconnected_graph\n",
    "\n",
    "message, original_graph_path, disconnected_graph_path = visualise_disconnected_graph(disconnection)"
   ]
  },
  {
   "cell_type": "markdown",
   "id": "9ae85f87",
   "metadata": {},
   "source": [
    "### Number of Links \n",
    "Since the graph of the **top 25** is a **complete** graph, we will need to remove **24** edges from the graph to disconnect the original graph."
   ]
  },
  {
   "cell_type": "code",
   "execution_count": null,
   "id": "d3b8c01a",
   "metadata": {},
   "outputs": [],
   "source": [
    "print(message)"
   ]
  },
  {
   "cell_type": "markdown",
   "id": "03358033",
   "metadata": {},
   "source": [
    "### The Original Graph\n",
    "In the **interactive** graph shown below, we can see that the original graph with the **top 25 heroes** is a **complete** graph. The two heroes *SPIDER-MAN/PETER PARKER* and *WOLVERINE/LOGAN* are coloured **red**.\n",
    "\n",
    "**NOTE:** If you **cannot** see the hero names, scroll down the `IFrame` and change the **font size**."
   ]
  },
  {
   "cell_type": "code",
   "execution_count": null,
   "id": "6f116c1b",
   "metadata": {},
   "outputs": [],
   "source": [
    "from IPython.display import IFrame\n",
    "\n",
    "IFrame(src=original_graph_path, width=1000, height=600)"
   ]
  },
  {
   "cell_type": "markdown",
   "id": "fc76ae0f",
   "metadata": {},
   "source": [
    "### The Disconnected Graph"
   ]
  },
  {
   "cell_type": "markdown",
   "id": "e24fa0cf",
   "metadata": {},
   "source": [
    "Because the original graph with the **top 25 heroes** is a **complete** graph (density is equal to 1), when disconnecting them we will end up with a **complete graph** with **24 heroes** and a graph with **only a single** node."
   ]
  },
  {
   "cell_type": "code",
   "execution_count": null,
   "id": "5ec35d24",
   "metadata": {},
   "outputs": [],
   "source": [
    "import networkx as nx\n",
    "nx.density(disconnection.original_graph)"
   ]
  },
  {
   "cell_type": "code",
   "execution_count": null,
   "id": "f8ec5c01",
   "metadata": {
    "scrolled": true
   },
   "outputs": [],
   "source": [
    "from IPython.display import IFrame\n",
    "\n",
    "IFrame(src=disconnected_graph_path, width=1000, height=600)"
   ]
  },
  {
   "cell_type": "markdown",
   "id": "155acf53",
   "metadata": {},
   "source": [
    "# 5. Extracting Communities"
   ]
  },
  {
   "cell_type": "markdown",
   "id": "9d3298f8",
   "metadata": {},
   "source": [
    "## 5.1 Functionality\n",
    "We run the `extract_communities` function for the **top 25** heroes with *CAPTAIN AMERICA* as `hero1` and *IRON MAN/TONY STARK* as `hero2`.\n",
    "\n",
    "The `extract_communities` function returns a [Communities](backend/domain/communities.py) dataclass containing:\n",
    "* the edges that were disconnected\n",
    "* the original graph\n",
    "* the hero_1\n",
    "* the hero_2 \n",
    "* the community_1 that contains hero_1\n",
    "* the community_2 that contains hero_2\n",
    "* whether the two heroes are in the same community"
   ]
  },
  {
   "cell_type": "code",
   "execution_count": null,
   "id": "ef793d10",
   "metadata": {},
   "outputs": [],
   "source": [
    "hero_1 = 'CAPTAIN AMERICA'\n",
    "hero_2 = 'IRON MAN/TONY STARK'\n",
    "comms = collab_controller.run('extract_communities', top_n=25, hero_1=hero_1, hero_2=hero_2)"
   ]
  },
  {
   "cell_type": "markdown",
   "id": "7ac63d2b",
   "metadata": {},
   "source": [
    "## 5.2 Visualisation"
   ]
  },
  {
   "cell_type": "markdown",
   "id": "bfdb8704",
   "metadata": {},
   "source": [
    "The `visualise_communities` function from the [frontend](frontend) package generates the visualisation outputs for the extracted communities object. It returns:\n",
    "* a message about the number of removed links\n",
    "* a table with the two communities\n",
    "* a path to the original graph\n",
    "* a path to a graph with the two communities coloured in\n",
    "* a path to a graph with the communities of the heroes coloured in\n",
    "\n",
    "Again, the graphs are `.html` files that are generated with the `pyvis` package."
   ]
  },
  {
   "cell_type": "code",
   "execution_count": null,
   "id": "81a2d577",
   "metadata": {},
   "outputs": [],
   "source": [
    "%%capture\n",
    "from frontend import visualise_communities\n",
    "\n",
    "message, table, comms_original_graph_path, communities_graph_path, comms_final_graph_path = visualise_communities(comms)"
   ]
  },
  {
   "cell_type": "markdown",
   "id": "bc484ae1",
   "metadata": {},
   "source": [
    "### Links Removed\n",
    "Like with the [disconnected graphs](#Disconnected-Graph), since we have a complete graph, the best way to split it is to remove **24** edges."
   ]
  },
  {
   "cell_type": "code",
   "execution_count": null,
   "id": "e92f40e1",
   "metadata": {},
   "outputs": [],
   "source": [
    "print(message)"
   ]
  },
  {
   "cell_type": "markdown",
   "id": "057e5722",
   "metadata": {},
   "source": [
    "### Communities Table\n",
    "The table below shows the two generated communities with their heroes. As in [Disconnecting Graph](#Disconnecting-Graph), the split is as **uneven** as it possibly can be, with **one hero** in Community 1 and **the rest** in Community 2. We also observe that the two chosen heroes: **CAPTAIN AMERICA** and **IRON MAN/TONY STARK** ended up in the same community."
   ]
  },
  {
   "cell_type": "code",
   "execution_count": null,
   "id": "42384c42",
   "metadata": {},
   "outputs": [],
   "source": [
    "table"
   ]
  },
  {
   "cell_type": "markdown",
   "id": "fe0d79c5",
   "metadata": {},
   "source": [
    "### Original Graph\n",
    "The graph below is the original graph of the **top 25** heroes. Again, when scrolling down the frame, there are some settings that can be adjusted, e.g. font size."
   ]
  },
  {
   "cell_type": "code",
   "execution_count": null,
   "id": "71b3da81",
   "metadata": {},
   "outputs": [],
   "source": [
    "IFrame(src=comms_original_graph_path, width=1000, height=600)"
   ]
  },
  {
   "cell_type": "markdown",
   "id": "99b02e68",
   "metadata": {},
   "source": [
    "### Communities Graph\n",
    "The graph below shows the two communities: **Community 1 (red)** and **Community 2 (blue)**. It shows what the communities table already showed, namely the fact that the two communities are **extremely imbalanced** due to the fact that the graph is so **densely connected**."
   ]
  },
  {
   "cell_type": "code",
   "execution_count": null,
   "id": "0627a0f4",
   "metadata": {},
   "outputs": [],
   "source": [
    "IFrame(src=communities_graph_path, width=1000, height=600)"
   ]
  },
  {
   "cell_type": "markdown",
   "id": "66c226d9",
   "metadata": {},
   "source": [
    "### Final Graph\n",
    "The last graph shows the actual communities that hero 1 and hero 2 belong to. The graph can take the following colours:\n",
    "\n",
    "* green - the community that contains **both hero 1 and hero 2**.\n",
    "* blue - the community that contains **hero 1 ONLY** (not present in this graph because both heroes are in the same community)\n",
    "* red - the community that contains **hero 2 ONLY** (not present in this graph because both heroes are in the same community)\n",
    "* yellow - the community that contains **neither hero 1 nor hero 2**."
   ]
  },
  {
   "cell_type": "code",
   "execution_count": null,
   "id": "fe2e79cf",
   "metadata": {},
   "outputs": [],
   "source": [
    "IFrame(src=comms_final_graph_path, width=1000, height=600)"
   ]
  },
  {
   "cell_type": "markdown",
   "id": "a9f0b5ae",
   "metadata": {},
   "source": [
    "---\n",
    "\n",
    "# Algorithmic Question\n",
    "\n",
    "## Data Structure\n",
    "This solution to the algorithmic question uses a **MultiDiGraph**:\n",
    "* multi - multiple edges between nodes\n",
    "* di - directed\n",
    "\n",
    "The idea is that the **poly-line** in the **3 by 3 password grid** can be represented as a **MultiDiGraph**. Each point in the password grid is a **node**, and each line that can be drawn from a point to another is an **edge**. Because only vertical and horizontal lines are allowed, this gives a graph with **9 nodes** and **24 edges**. \n",
    "\n",
    "![password_grid_graph](doc/q_algo_multidigraph.png)\n",
    "\n",
    "For example, if we start from **node 0**, we can go to **node 1** or **node 3**. Additionally, each edge has a label `direction` with a single character `{'D', 'U', 'L', 'R'}` which indicates the direction that the edge is going to. For example, the edge **(0, 1)** is labeled with `direction=R`, but the edge **(1, 0)** is labelled with `direction=L`."
   ]
  },
  {
   "cell_type": "markdown",
   "id": "22552a0f",
   "metadata": {},
   "source": [
    "## Creating the Graph\n",
    "As a first step, we have to create the graph. We have to add **9 nodes** and **24 edges**. Creating the edges requires to determine the neighbours of each node in the graph and which direction they should be assigned."
   ]
  },
  {
   "cell_type": "code",
   "execution_count": null,
   "id": "d9f4d260",
   "metadata": {},
   "outputs": [],
   "source": [
    "import numpy as np\n",
    "import itertools\n",
    "import networkx as nx\n",
    "g = nx.MultiDiGraph()\n",
    "g.add_nodes_from(range(9))"
   ]
  },
  {
   "cell_type": "markdown",
   "id": "ab0f864a",
   "metadata": {},
   "source": [
    "### Neighbours\n",
    "We know that **0** should be connected to **1** and to **3**. To determine that **1** and **3** are the neighbours of **0**, we have a 3 by 3 numpy array which represents the password grid. By adding a delta of **(0, 1)** to the **row** and **column** of **0** we know that we will be moving to the right, as the **column** value is increased by 1 but the row value remains the same.\n",
    "\n",
    "```python\n",
    "0_row_col = (0, 0)\n",
    "right_neighbour = 0_row_col + (0, 1) # the row and column of the neighbour to the right\n",
    "```\n",
    "\n",
    "By doing this for all 4 directions and only keeping those neighbours that are also in the grid, e.g. moving to the left of **node 0** is not possible, we end up with all of the edges that we need."
   ]
  },
  {
   "cell_type": "code",
   "execution_count": null,
   "id": "347f01ce",
   "metadata": {},
   "outputs": [],
   "source": [
    "nodes = np.arange(9).reshape((3, 3))\n",
    "valid_coords = [(x, y) for x in range(nodes.shape[0]) for y in range(nodes.shape[1])]"
   ]
  },
  {
   "cell_type": "code",
   "execution_count": null,
   "id": "95b9b573",
   "metadata": {},
   "outputs": [],
   "source": [
    "def neighbours(n, nodes):\n",
    "    \"\"\"Determines the neighbours of n in the nodes array.\n",
    "    \n",
    "    :arg\n",
    "    n - the node to find neighbours for\n",
    "    nodes - a numpy array.\n",
    "    \n",
    "    :return\n",
    "    a generator with the neighbouring nodes and their directions.\n",
    "    \n",
    "    Example:\n",
    "    list(neighbours(4, nodes))\n",
    "    [(5, 'R'), (3, 'L'), (7, 'D'), (1, 'U')]\n",
    "    \"\"\"\n",
    "    neighs = []\n",
    "    row_col = np.array(np.where(nodes == n)).flatten()\n",
    "    \n",
    "    for delta, direction in [((0, 1), 'R'), ((0, -1), 'L'), ((1, 0), 'D'), ((-1, 0), 'U')]:\n",
    "        \n",
    "        new_row_col = tuple(row_col + delta)\n",
    "        if new_row_col in valid_coords:\n",
    "            yield nodes[new_row_col], direction"
   ]
  },
  {
   "cell_type": "markdown",
   "id": "611a3cb6",
   "metadata": {},
   "source": [
    "Find the neighbours for each node in the graph, and add them as edges one by one."
   ]
  },
  {
   "cell_type": "code",
   "execution_count": null,
   "id": "de58cd8d",
   "metadata": {},
   "outputs": [],
   "source": [
    "for node in g.nodes():\n",
    "    for neighbour, direction in neighbours(node, nodes):\n",
    "        g.add_edge(node, neighbour, direction=direction)"
   ]
  },
  {
   "cell_type": "code",
   "execution_count": null,
   "id": "0f56424e",
   "metadata": {},
   "outputs": [],
   "source": [
    "nx.draw(g, with_labels=True)"
   ]
  },
  {
   "cell_type": "markdown",
   "id": "dedac5b9",
   "metadata": {},
   "source": [
    "## Finding all direction sequences\n",
    "The input is a single string that shows **just** the direction of the segment lines, i.e. **D** can mean to go down **one** node or **two** nodes. If we find **all possible sequences of directions** from the input, we can then use those to traverse the graph and see whether we manage to follow the sequence without revisiting nodes or trying to go into a direction that is not possible.\n",
    "\n",
    "For example, the string `DRU` gives the following possible sequences:\n",
    "```\n",
    "['DRU', 'DRUU', 'DRRU', 'DRRUU', 'DDRU', 'DDRUU', 'DDRRU', 'DDRRUU']\n",
    "```\n",
    "\n"
   ]
  },
  {
   "cell_type": "code",
   "execution_count": null,
   "id": "d73b40e9",
   "metadata": {},
   "outputs": [],
   "source": [
    "def all_sequences(directions, max_steps=2):\n",
    "    \"\"\"Finds all possible sequences given a string of directions.\n",
    "    \n",
    "    :arg\n",
    "    directions (str) - the directions\n",
    "    max_steps (int) - determines the number of possible steps that you can take in a single direction.\n",
    "    \n",
    "    :return\n",
    "    a generator with a single sequence.\n",
    "    \"\"\"\n",
    "    steps = []\n",
    "    for direction in directions:\n",
    "        step = [(i + 1)* direction for i in range(max_steps)]\n",
    "        steps.append(tuple(step))\n",
    "        \n",
    "    indeces = list(itertools.product(range(2), repeat=len(directions)))\n",
    "    all_steps = []\n",
    "    for ind in indeces:\n",
    "        step = []\n",
    "        for i, s in zip(ind, range(len(steps))):\n",
    "            step.append(steps[s][i])\n",
    "            \n",
    "        yield \"\".join(step)"
   ]
  },
  {
   "cell_type": "markdown",
   "id": "7314c832",
   "metadata": {},
   "source": [
    "## The Algorithm\n",
    "To find solutions from an input string, we need to try to walk **all possible sequences** starting from **all nodes in the graph**. If we are able to finish a walk, we increment our count by one."
   ]
  },
  {
   "cell_type": "code",
   "execution_count": null,
   "id": "87a84cfc",
   "metadata": {},
   "outputs": [],
   "source": [
    "def password_possibilities(directions):\n",
    "    for i in range(len(directions) - 1):\n",
    "        if directions[i] == directions[i + 1]:\n",
    "            raise ValueError(f\"Found consecutive repeating characters: {directions[i], directions[i + 1]} in {directions}\")\n",
    "    \n",
    "    solutions = 0\n",
    "    for steps in all_sequences('DRU'):\n",
    "        for start in g.nodes():\n",
    "\n",
    "            current_node = start\n",
    "            steps_path = list(steps)\n",
    "            visited = {current_node}\n",
    "\n",
    "            while steps_path:\n",
    "\n",
    "                step = steps_path[0]\n",
    "                edge = list(filter(lambda e: e[-1] == step, g.out_edges(current_node, data='direction')))\n",
    "\n",
    "                # if there is an edge to take into the next direction and we haven't visited the node on the other side of the edge\n",
    "                # so far.\n",
    "                if edge and edge[0][1] not in visited:\n",
    "                    # move to the next node\n",
    "                    current_node = edge[0][1]\n",
    "                    visited.add(current_node)\n",
    "                    steps_path.pop(0)\n",
    "\n",
    "                else:\n",
    "                    # it is not possible to take the next direction or we have visited a node already, so the path is not possible\n",
    "                    break\n",
    "            if not steps_path:\n",
    "                solutions += 1\n",
    "    return solutions"
   ]
  },
  {
   "cell_type": "code",
   "execution_count": null,
   "id": "df1243c0",
   "metadata": {},
   "outputs": [],
   "source": [
    "password_possibilities('DRU')"
   ]
  },
  {
   "cell_type": "code",
   "execution_count": null,
   "id": "ee8f8bfe",
   "metadata": {},
   "outputs": [],
   "source": [
    "password_possibilities('R')"
   ]
  },
  {
   "cell_type": "code",
   "execution_count": null,
   "id": "e6322b63",
   "metadata": {},
   "outputs": [],
   "source": [
    "password_possibilities('LDRDRUL')"
   ]
  }
 ],
 "metadata": {
  "kernelspec": {
   "display_name": "Python 3 (ipykernel)",
   "language": "python",
   "name": "python3"
  },
  "language_info": {
   "codemirror_mode": {
    "name": "ipython",
    "version": 3
   },
   "file_extension": ".py",
   "mimetype": "text/x-python",
   "name": "python",
   "nbconvert_exporter": "python",
   "pygments_lexer": "ipython3",
   "version": "3.9.0"
  },
  "vscode": {
   "interpreter": {
    "hash": "aee8b7b246df8f9039afb4144a1f6fd8d2ca17a180786b69acc140d282b71a49"
   }
  }
 },
 "nbformat": 4,
 "nbformat_minor": 5
}
