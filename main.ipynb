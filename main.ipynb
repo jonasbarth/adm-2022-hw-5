{
 "cells": [
  {
   "cell_type": "markdown",
   "id": "69d90346",
   "metadata": {},
   "source": [
    "# Marvel Superheroes - Group 14\n",
    "\n",
    "## Group Members\n",
    "* Simone Facchiano\n",
    "* Stefano Lacommare\n",
    "* Jonas Barth\n",
    "\n",
    "# Index\n",
    "\n",
    "* [Graph Setup](#Graph-Setup)\n",
    "    * [Collaborative Graph](#Collaborative-Graph)\n",
    "    * [Hero-Comic Graph](#Hero-Comic-Graph)\n",
    "* [Hero Graph Features](#hero-graph-features)\n",
    "    * [Functionality](#1.-Functionality)\n",
    "    * [Visualisation](#1.-Visualisation)\n",
    "* [Find Top Superheroes](#Find-Top-Superheroes)\n",
    "    * [Functionality](#2.-Functionality)\n",
    "    * [Visualisation](#2.-Visualisation)\n",
    "* [Shortest Ordered Route](#shortest-ordered-route)\n",
    "    * [Functionality](#3-Functionality)\n",
    "    * [Visualisation](#3-Visualisation)\n",
    "* [Disconnecting Graphs](#disconnecting-graphs)\n",
    "    * [Functionality](#4.-Functionality)\n",
    "    * [Visualisation](#4.-Visualisation)\n",
    "* [Exctracting Communities](#extracting-communities)\n",
    "    * [Functionality](#5-Functionality)\n",
    "    * [Visualisation](#5-Visualisation)"
   ]
  },
  {
   "cell_type": "markdown",
   "id": "de93fffb",
   "metadata": {},
   "source": [
    "Turn off the logging messages in the notebook"
   ]
  },
  {
   "cell_type": "code",
   "execution_count": 1,
   "id": "ad6c0ff8",
   "metadata": {},
   "outputs": [],
   "source": [
    "import logging, sys\n",
    "logging.disable(sys.maxsize)"
   ]
  },
  {
   "cell_type": "markdown",
   "id": "267dd5d0",
   "metadata": {},
   "source": [
    "# Graph Setup"
   ]
  },
  {
   "cell_type": "markdown",
   "id": "e052057a",
   "metadata": {},
   "source": [
    "## Collaborative Graph"
   ]
  },
  {
   "cell_type": "code",
   "execution_count": 2,
   "id": "e180dfb8",
   "metadata": {},
   "outputs": [],
   "source": [
    "import backend.graph.collaborative as collaborative\n",
    "\n",
    "collab_graph, collab_graph_type = collaborative.create_from(data='data/hero-network.csv')"
   ]
  },
  {
   "cell_type": "markdown",
   "id": "594a49f8",
   "metadata": {},
   "source": [
    "## Hero-Comic Graph"
   ]
  },
  {
   "cell_type": "code",
   "execution_count": 3,
   "id": "34182ef1",
   "metadata": {},
   "outputs": [],
   "source": [
    "import backend.graph.hero_comic as hero_comic\n",
    "\n",
    "hero_comic_graph, hero_comic_graph_type = hero_comic.create_from(nodes='data/nodes.csv', edges='data/edges.csv')    "
   ]
  },
  {
   "cell_type": "markdown",
   "id": "e5749b3c",
   "metadata": {},
   "source": [
    "# Controller\n",
    "We create **one** controller **per graph**. The [controller class](backend/controller.py) has a `run` method that receives:\n",
    "- names of functionalities\n",
    "- `top_n` for the top N heroes to consider\n",
    "- a number of keyword arguments that depend on the functionality. \n",
    "\n",
    "The `run` method runs the functionality on the graph that is assigned to the class and returns the result."
   ]
  },
  {
   "cell_type": "code",
   "execution_count": 4,
   "id": "03cad750",
   "metadata": {},
   "outputs": [],
   "source": [
    "from backend import Controller\n",
    "\n",
    "collab_controller = Controller(collab_graph)\n",
    "hero_comic_controller = Controller(hero_comic_graph)"
   ]
  },
  {
   "cell_type": "markdown",
   "id": "46766bd3",
   "metadata": {},
   "source": [
    "# Features\n",
    "\n",
    "## 1. Functionality\n",
    "The `features` method will return a [GraphFeatures](backend/describe/graph) instance that contains:\n",
    "- the graph type of the graph.\n",
    "- the number of nodes in the graph.\n",
    "- a set of hero collaboration.\n",
    "- a list of Comic classes that with information about the number of heroes inside them.\n",
    "- the density of the graph.\n",
    "- the distribution of degrees across the graph.\n",
    "- the average degree in the graph.\n",
    "- a set of hubs in the graph.\n",
    "- the mode of the graph, whether it is sparse or dense."
   ]
  },
  {
   "cell_type": "code",
   "execution_count": 5,
   "id": "6e569ef4",
   "metadata": {},
   "outputs": [],
   "source": [
    "collab_features = collab_controller.run('features', top_n=25, graph_type=collab_graph_type)\n",
    "hero_comic_features = hero_comic_controller.run('features', top_n=25, graph_type=hero_comic_graph_type)"
   ]
  },
  {
   "cell_type": "markdown",
   "id": "5bb59f5b",
   "metadata": {},
   "source": [
    "## 1. Visualisation"
   ]
  },
  {
   "cell_type": "markdown",
   "id": "720f7bcc",
   "metadata": {},
   "source": [
    "# Find Top Superheroes"
   ]
  },
  {
   "cell_type": "markdown",
   "id": "1ceff69b",
   "metadata": {},
   "source": [
    "## 2. Functionality"
   ]
  },
  {
   "cell_type": "code",
   "execution_count": 6,
   "id": "2e55e3f8",
   "metadata": {},
   "outputs": [],
   "source": [
    "metric = 'betweenness_centrality'\n",
    "graph_metrics, node_metrics = collab_controller.run('metrics', top_n=50, node='WOLVERINE/LOGAN', metric=metric)"
   ]
  },
  {
   "cell_type": "markdown",
   "id": "ac30535a",
   "metadata": {},
   "source": [
    "## 2. Visualisation"
   ]
  },
  {
   "cell_type": "code",
   "execution_count": 7,
   "id": "65a0bf1d",
   "metadata": {},
   "outputs": [
    {
     "data": {
      "image/png": "[encoded data removed]",
      "text/plain": [
       "<Figure size 800x200 with 1 Axes>"
      ]
     },
     "metadata": {},
     "output_type": "display_data"
    }
   ],
   "source": [
    "from frontend import metrics\n",
    "\n",
    "metrics(graph_metrics=graph_metrics, node_metrics=node_metrics, metric=metric)"
   ]
  },
  {
   "cell_type": "markdown",
   "id": "a5238fda",
   "metadata": {},
   "source": [
    "# Disconnecting Graph\n",
    "\n",
    "## 4. Functionality\n",
    "We run the `disconnected_graphs` functionality with the two heroes **SPIDER-MAN/PETER PARKER** and **WOLVERINE/LOGAN**, for the **top 25** heroes. The functionality returns a [Disconnection](backend/domain/disconnection.py) object object that contains:\n",
    "* the edges that were disconnected\n",
    "* the cumulative weight of the disconnected edges\n",
    "* the original graph\n",
    "* the hero_a\n",
    "* the hero_b \n",
    "* the graph_a that contains hero_a\n",
    "* the graph_b that contains hero_b"
   ]
  },
  {
   "cell_type": "code",
   "execution_count": 6,
   "id": "e78f7c72",
   "metadata": {},
   "outputs": [],
   "source": [
    "hero_a = 'SPIDER-MAN/PETER PARKER'\n",
    "hero_b = 'WOLVERINE/LOGAN'\n",
    "\n",
    "disconnection = collab_controller.run('disconnecting_graphs', top_n=25, hero_a=hero_a, hero_b=hero_b)"
   ]
  },
  {
   "cell_type": "markdown",
   "id": "d17f7089",
   "metadata": {},
   "source": [
    "## 4. Visualisation"
   ]
  },
  {
   "cell_type": "markdown",
   "id": "b2fc0e92",
   "metadata": {},
   "source": [
    "The `disconnected_graph` function from our `frontend` package uses the `disconnection` object to create two `pyvis` graphs and save them as `.html` files. We can then load these files and display them with the help of an `IPython IFrame`."
   ]
  },
  {
   "cell_type": "code",
   "execution_count": 7,
   "id": "0c38462c",
   "metadata": {},
   "outputs": [],
   "source": [
    "from frontend import disconnected_graph\n",
    "\n",
    "message, original_graph_path, disconnected_graph_path = disconnected_graph(disconnection)"
   ]
  },
  {
   "cell_type": "markdown",
   "id": "9ae85f87",
   "metadata": {},
   "source": [
    "### Number of Links "
   ]
  },
  {
   "cell_type": "code",
   "execution_count": 8,
   "id": "d3b8c01a",
   "metadata": {},
   "outputs": [
    {
     "name": "stdout",
     "output_type": "stream",
     "text": [
      "The number of edges that were removed from the original graph is: 24\n"
     ]
    }
   ],
   "source": [
    "print(message)"
   ]
  },
  {
   "cell_type": "markdown",
   "id": "03358033",
   "metadata": {},
   "source": [
    "### The Original Graph\n",
    "The original graph with the top 25 heroes is a complete graph."
   ]
  },
  {
   "cell_type": "code",
   "execution_count": 9,
   "id": "6f116c1b",
   "metadata": {},
   "outputs": [
    {
     "data": {
      "text/html": [
       "\n",
       "        <iframe\n",
       "            width=\"1000\"\n",
       "            height=\"600\"\n",
       "            src=\"doc/visualisations/disconnected/original_graph.html\"\n",
       "            frameborder=\"0\"\n",
       "            allowfullscreen\n",
       "            \n",
       "        ></iframe>\n",
       "        "
      ],
      "text/plain": [
       "<IPython.lib.display.IFrame at 0x2c6ae73e100>"
      ]
     },
     "execution_count": 9,
     "metadata": {},
     "output_type": "execute_result"
    }
   ],
   "source": [
    "from IPython.display import IFrame\n",
    "\n",
    "IFrame(src=original_graph_path, width=1000, height=600)"
   ]
  },
  {
   "cell_type": "markdown",
   "id": "fc76ae0f",
   "metadata": {},
   "source": [
    "### The Disconnected Graph"
   ]
  },
  {
   "cell_type": "markdown",
   "id": "e24fa0cf",
   "metadata": {},
   "source": [
    "Because the original graph with the top 25 heroes is a complete graph (density is equal to 1), when disconnecting them we will end up with a complete graph with 24 heroes and a graph with only a single node."
   ]
  },
  {
   "cell_type": "code",
   "execution_count": 10,
   "id": "5ec35d24",
   "metadata": {},
   "outputs": [
    {
     "data": {
      "text/plain": [
       "1.0"
      ]
     },
     "execution_count": 10,
     "metadata": {},
     "output_type": "execute_result"
    }
   ],
   "source": [
    "import networkx as nx\n",
    "nx.density(disconnection.original_graph)"
   ]
  },
  {
   "cell_type": "code",
   "execution_count": 11,
   "id": "f8ec5c01",
   "metadata": {
    "scrolled": true
   },
   "outputs": [
    {
     "data": {
      "text/html": [
       "\n",
       "        <iframe\n",
       "            width=\"1000\"\n",
       "            height=\"600\"\n",
       "            src=\"doc/visualisations/disconnected/disconnected_graphs.html\"\n",
       "            frameborder=\"0\"\n",
       "            allowfullscreen\n",
       "            \n",
       "        ></iframe>\n",
       "        "
      ],
      "text/plain": [
       "<IPython.lib.display.IFrame at 0x2c6ae715d60>"
      ]
     },
     "execution_count": 11,
     "metadata": {},
     "output_type": "execute_result"
    }
   ],
   "source": [
    "from IPython.display import IFrame\n",
    "\n",
    "IFrame(src=disconnected_graph_path, width=1000, height=600)"
   ]
  }
 ],
 "metadata": {
  "kernelspec": {
   "display_name": "Python 3 (ipykernel)",
   "language": "python",
   "name": "python3"
  },
  "language_info": {
   "codemirror_mode": {
    "name": "ipython",
    "version": 3
   },
   "file_extension": ".py",
   "mimetype": "text/x-python",
   "name": "python",
   "nbconvert_exporter": "python",
   "pygments_lexer": "ipython3",
   "version": "3.9.0"
  }
 },
 "nbformat": 4,
 "nbformat_minor": 5
}
