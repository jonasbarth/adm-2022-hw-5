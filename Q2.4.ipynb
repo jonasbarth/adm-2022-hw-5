{
 "cells": [
  {
   "cell_type": "code",
   "execution_count": 103,
   "id": "45b05236-fd47-4fc3-9c1e-2454fadf1899",
   "metadata": {},
   "outputs": [],
   "source": [
    "import graph.collaborative\n",
    "import networkx as nx\n",
    "g = graph.collaborative.create_from(data='hero-network.csv')\n",
    "import backend\n",
    "import service\n",
    "from service import TopHeroService"
   ]
  },
  {
   "cell_type": "code",
   "execution_count": 113,
   "id": "d8b8a2b4-2907-4825-be1f-15d102e0c327",
   "metadata": {},
   "outputs": [],
   "source": [
    "hs = TopHeroService.create_from('edges.csv')\n",
    "top_heroes = hs.top_n(100)\n",
    "subgraph = g.subgraph(top_heroes)"
   ]
  },
  {
   "cell_type": "code",
   "execution_count": 117,
   "id": "d081cd04-41be-4493-aac1-f6e565e818d1",
   "metadata": {},
   "outputs": [],
   "source": [
    "def edge_to_remove(graph):\n",
    "    G_dict = nx.edge_betweenness_centrality(graph)\n",
    "    edge = ()\n",
    "\n",
    "  # extract the edge with highest edge betweenness centrality score\n",
    "    for key, value in sorted(G_dict.items(), key=lambda item: item[1], reverse = True):\n",
    "        edge = key\n",
    "        break\n",
    "\n",
    "    return edge"
   ]
  },
  {
   "cell_type": "code",
   "execution_count": 88,
   "id": "d856806f-dcde-4987-8da7-207d290b4dfe",
   "metadata": {},
   "outputs": [],
   "source": [
    "def girvan_newman(graph):\n",
    "    # find number of connected components\n",
    "    sg = nx.connected_components(graph)\n",
    "    sg_count = nx.number_connected_components(graph)\n",
    "\n",
    "    while(sg_count == 1):\n",
    "        graph.remove_edge(edge_to_remove(graph)[0], edge_to_remove(graph)[1])\n",
    "        sg = nx.connected_components(graph)\n",
    "        sg_count = nx.number_connected_components(graph)\n",
    "\n",
    "    return sg"
   ]
  },
  {
   "cell_type": "code",
   "execution_count": 114,
   "id": "a86abd5c-bf12-4971-9e43-f430ce63cdb6",
   "metadata": {},
   "outputs": [],
   "source": [
    "def cut_communities(graph, N, Hero_1, Hero_2):\n",
    "    # The minimum number of edges that should be removed to form communities\n",
    "    min_cut = nx.minimum_edge_cut(graph)\n",
    "    \n",
    "    # Find the communities using girvan_newman function\n",
    "    unf = nx.Graph(graph)\n",
    "    communities = list(girvan_newman(unf))\n",
    "    \n",
    "    # Check if the hero_1 and hero_2 belong to the same community\n",
    "    same_community = False\n",
    "    for community in communities:\n",
    "        if Hero_1 in community and Hero_2 in community:\n",
    "            same_community = True\n",
    "            break\n",
    "    return len(min_cut), communities, same_community"
   ]
  },
  {
   "cell_type": "code",
   "execution_count": 116,
   "id": "0ee00299-eee8-4120-864e-d1becd0e72da",
   "metadata": {},
   "outputs": [
    {
     "name": "stdout",
     "output_type": "stream",
     "text": [
      "(40, [{'COLOSSUS II/PETER RA', 'ROGUE ', 'RICHARDS, FRANKLIN B', 'ROBERTSON, JOE', 'JUBILEE/JUBILATION L', 'CLEA', 'PROFESSOR X/CHARLES', 'VISION', 'STORM/ORORO MUNROE S', 'BANSHEE/SEAN CASSIDY', 'SCARLET WITCH/WANDA', 'THOMPSON, EUGENE FLA', 'NELSON, FRANKLIN FOG', 'SHADOWCAT/KATHERINE', 'HAWK', 'MAGNETO/MAGNUS/ERIC', 'OSBORN, HARRY', 'SPIDER-MAN CLONE/BEN', 'LEEDS, BETTY BRANT', 'BINARY/CAROL DANVERS', 'PUNISHER II/FRANK CA', 'QUASAR III/WENDELL V', 'JARVIS, EDWIN', 'BOOMER/TABITHA SMITH', 'SILVER SURFER/NORRIN', 'MEDUSA/MEDUSALITH AM', 'FURY, COL. NICHOLAS', 'DR. STRANGE/STEPHEN', 'FANDRAL [ASGARDIAN]', 'NIGHTCRAWLER/KURT WA', 'MARVEL GIRL/JEAN GRE', 'DAREDEVIL/MATT MURDO', 'CAPTAIN BRITAIN/BRIA', 'BLACK KNIGHT V/DANE', 'INVISIBLE WOMAN/SUE', 'MOON KNIGHT/MARC SPE', 'CAGE, LUKE/CARL LUCA', 'VOLSTAGG', 'WONG', 'ICEMAN/ROBERT BOBBY', 'SUB-MARINER/NAMOR MA', 'IRON MAN IV/JAMES R.', 'HAVOK/ALEX SUMMERS', 'MASTERS, ALICIA REIS', 'KA-ZAR/KEVIN PLUNDER', 'WATSON-PARKER, MARY', 'PSYLOCKE/ELISABETH B', 'CAPTAIN AMERICA', 'HUMAN TORCH/JOHNNY S', 'PAGE, KAREN', 'CANNONBALL II/SAM GU', 'DUGAN, TIMOTHY ALOYI', 'CAPTAIN MARVEL II/MO', 'TIGRA/GREER NELSON', 'NORRISS, SISTER BARB', 'THING/BENJAMIN J. GR', 'NOVA/RICHARD RIDER', 'USAGENT/CAPTAIN JOHN', 'MOCKINGBIRD/DR. BARB', 'BANNER, BETTY ROSS T', \"BLACK PANTHER/T'CHAL\", 'SUNSPOT/ROBERTO DACO', 'HULK/DR. ROBERT BRUC', 'MR. FANTASTIC/REED R', 'ROSS, GEN. THADDEUS', 'POLARIS/LORNA DANE', 'HUDSON, HEATHER', 'FALCON/SAM WILSON', 'LOKI [ASGARDIAN]', 'SIF', 'SUMMERS, NATHAN CHRI', 'CRYSTAL [INHUMAN]', 'KINGPIN/WILSON FISK', 'MIRAGE II/DANIELLE M', 'HOGUN [ASGARDIAN]', 'THOR/DR. DONALD BLAK', 'IRON FIST/DANIEL RAN', 'QUICKSILVER/PIETRO M', 'SPIDER-MAN/PETER PARKER', 'WONDER MAN/SIMON WIL', 'WASP/JANET VAN DYNE', 'BALDER [ASGARDIAN]', 'ANGEL/WARREN KENNETH', 'HERCULES [GREEK GOD]', 'CYCLOPS/SCOTT SUMMER', 'ODIN [ASGARDIAN]', 'DR. DOOM/VICTOR VON', 'WOLFSBANE/RAHNE SINC', 'IRON MAN/TONY STARK', 'BEAST/HENRY &HANK& P', 'SHE-HULK/JENNIFER WA', 'JONES, RICHARD MILHO', 'ANT-MAN/DR. HENRY J.', 'JAMESON, J. JONAH', 'WOLVERINE/LOGAN', 'MACTAGGERT, MOIRA KI', 'BLACK WIDOW/NATASHA', 'GAMBIT/REMY LEBEAU', 'PARKER, MAY'}, {'SHANG-CHI'}], True)\n"
     ]
    }
   ],
   "source": [
    "print(cut_communities(subgraph, 100, 'MASTERS, ALICIA REIS','PARKER, MAY'))"
   ]
  }
 ],
 "metadata": {
  "kernelspec": {
   "display_name": "Python 3 (ipykernel)",
   "language": "python",
   "name": "python3"
  },
  "language_info": {
   "codemirror_mode": {
    "name": "ipython",
    "version": 3
   },
   "file_extension": ".py",
   "mimetype": "text/x-python",
   "name": "python",
   "nbconvert_exporter": "python",
   "pygments_lexer": "ipython3",
   "version": "3.9.12"
  }
 },
 "nbformat": 4,
 "nbformat_minor": 5
}
