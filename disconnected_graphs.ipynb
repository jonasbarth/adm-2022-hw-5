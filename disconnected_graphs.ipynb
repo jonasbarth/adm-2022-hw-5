{
 "cells": [
  {
   "cell_type": "markdown",
   "id": "925e9119",
   "metadata": {},
   "source": [
    "# 2.4 Disconnected Graph"
   ]
  },
  {
   "cell_type": "markdown",
   "id": "81289d22",
   "metadata": {},
   "source": [
    "First we create a hero graph where heroes are linked to each other with the help of our `graph` package."
   ]
  },
  {
   "cell_type": "code",
   "execution_count": 1,
   "id": "6acb9561",
   "metadata": {},
   "outputs": [
    {
     "name": "stderr",
     "output_type": "stream",
     "text": [
      "02-Jan-23 12:12:36 backend.graph.collaborative - Creating collaborative hero graph from a csv file.\n"
     ]
    }
   ],
   "source": [
    "from backend import graph\n",
    "\n",
    "hero_network, _ = graph.collaborative.create_from('data/hero-network.csv')"
   ]
  },
  {
   "cell_type": "markdown",
   "id": "bf2f1d64",
   "metadata": {},
   "source": [
    "Then, we create a `Controller` instance with our previously created graph, so that we can run the `disconnected_graphs` function."
   ]
  },
  {
   "cell_type": "code",
   "execution_count": 2,
   "id": "889817e0",
   "metadata": {},
   "outputs": [],
   "source": [
    "from backend import Controller\n",
    "\n",
    "controller = Controller(hero_network)"
   ]
  },
  {
   "cell_type": "markdown",
   "id": "f0258c28",
   "metadata": {},
   "source": [
    "Then we run the `disconnected_graphs` functionality with the two heroes **SPIDER-MAN/PETER PARKER** and **WOLVERINE/LOGAN**, for the **top 25** heroes."
   ]
  },
  {
   "cell_type": "code",
   "execution_count": 3,
   "id": "f28e8ee1",
   "metadata": {},
   "outputs": [
    {
     "name": "stderr",
     "output_type": "stream",
     "text": [
      "02-Jan-23 12:12:42 backend.controller - Calling function \"disconnecting_graphs\".\n",
      "02-Jan-23 12:12:42 backend.controller - Received result from function \"disconnecting_graphs\".\n"
     ]
    }
   ],
   "source": [
    "hero_a = 'SPIDER-MAN/PETER PARKER'\n",
    "hero_b = 'WOLVERINE/LOGAN'\n",
    "\n",
    "disc = controller.run('disconnecting_graphs', 25, hero_a=hero_a, hero_b=hero_b)"
   ]
  },
  {
   "cell_type": "markdown",
   "id": "5c695940",
   "metadata": {},
   "source": [
    "# 3.4 Visualise the Disconnected Graph"
   ]
  },
  {
   "cell_type": "markdown",
   "id": "2ac0fedc",
   "metadata": {},
   "source": [
    "The `disconnecting_graphs` function returns a `Disconnection` object that contains:\n",
    "* the edges that were disconnected\n",
    "* the cumulative weight of the disconnected edges\n",
    "* the original graph\n",
    "* the hero_a\n",
    "* the hero_b \n",
    "* the graph_a that contains hero_a\n",
    "* the graph_b that contains hero_b\n",
    "\n",
    "The `disconnected_graph` function from our `frontend` package uses this object to create two `pyvis` graphs and save them as `.html` files. We can then load these files and display them with the help of an `IPython IFrame`."
   ]
  },
  {
   "cell_type": "code",
   "execution_count": 4,
   "id": "0c38462c",
   "metadata": {},
   "outputs": [
    {
     "name": "stderr",
     "output_type": "stream",
     "text": [
      "02-Jan-23 12:12:47 frontend.visualisations - Starting visualisation of disconnected graph.\n",
      "02-Jan-23 12:12:51 frontend.visualisations - Successfully wrote original graph to: doc/visualisations/disconnected/original_graph.html.\n",
      "02-Jan-23 12:12:52 frontend.visualisations - Successfully wrote disconnected graphs to: doc/visualisations/disconnected/disconnected_graphs.html.\n"
     ]
    }
   ],
   "source": [
    "from frontend import disconnected_graph\n",
    "\n",
    "message, original_graph_path, disconnected_graph_path = disconnected_graph(disc)"
   ]
  },
  {
   "cell_type": "markdown",
   "id": "871b4297",
   "metadata": {},
   "source": [
    "## Number of Links "
   ]
  },
  {
   "cell_type": "code",
   "execution_count": 9,
   "id": "9699516c",
   "metadata": {},
   "outputs": [
    {
     "name": "stdout",
     "output_type": "stream",
     "text": [
      "The number of edges that were removed from the original graph is: 24\n"
     ]
    }
   ],
   "source": [
    "print(message)"
   ]
  },
  {
   "cell_type": "markdown",
   "id": "44f98b20",
   "metadata": {},
   "source": [
    "## Visualise the Original Graph\n",
    "The original graph with the top 25 heroes is a complete graph."
   ]
  },
  {
   "cell_type": "code",
   "execution_count": 6,
   "id": "6f116c1b",
   "metadata": {},
   "outputs": [
    {
     "data": {
      "text/html": [
       "\n",
       "        <iframe\n",
       "            width=\"1000\"\n",
       "            height=\"600\"\n",
       "            src=\"doc/visualisations/disconnected/original_graph.html\"\n",
       "            frameborder=\"0\"\n",
       "            allowfullscreen\n",
       "            \n",
       "        ></iframe>\n",
       "        "
      ],
      "text/plain": [
       "<IPython.lib.display.IFrame at 0x20b35b9fa90>"
      ]
     },
     "execution_count": 6,
     "metadata": {},
     "output_type": "execute_result"
    }
   ],
   "source": [
    "from IPython.display import IFrame\n",
    "\n",
    "IFrame(src=original_graph_path, width=1000, height=600)"
   ]
  },
  {
   "cell_type": "markdown",
   "id": "52818b97",
   "metadata": {},
   "source": [
    "## Visualise the Disconnected Graph"
   ]
  },
  {
   "cell_type": "markdown",
   "id": "4b9a710a",
   "metadata": {},
   "source": [
    "Because the original graph with the top 25 heroes is a complete graph, when disconnecting them we will end up with a complete graph with 24 heroes and a graph with only a single node."
   ]
  },
  {
   "cell_type": "code",
   "execution_count": 10,
   "id": "4169d2ae",
   "metadata": {},
   "outputs": [
    {
     "data": {
      "text/plain": [
       "1.0"
      ]
     },
     "execution_count": 10,
     "metadata": {},
     "output_type": "execute_result"
    }
   ],
   "source": [
    "import networkx as nx\n",
    "nx.density(disc.original_graph)"
   ]
  },
  {
   "cell_type": "code",
   "execution_count": 7,
   "id": "f8ec5c01",
   "metadata": {},
   "outputs": [
    {
     "data": {
      "text/html": [
       "\n",
       "        <iframe\n",
       "            width=\"1000\"\n",
       "            height=\"600\"\n",
       "            src=\"doc/visualisations/disconnected/disconnected_graphs.html\"\n",
       "            frameborder=\"0\"\n",
       "            allowfullscreen\n",
       "            \n",
       "        ></iframe>\n",
       "        "
      ],
      "text/plain": [
       "<IPython.lib.display.IFrame at 0x20b503b3b20>"
      ]
     },
     "execution_count": 7,
     "metadata": {},
     "output_type": "execute_result"
    }
   ],
   "source": [
    "from IPython.display import IFrame\n",
    "\n",
    "IFrame(src=disconnected_graph_path, width=1000, height=600)"
   ]
  }
 ],
 "metadata": {
  "kernelspec": {
   "display_name": "Python 3 (ipykernel)",
   "language": "python",
   "name": "python3"
  },
  "language_info": {
   "codemirror_mode": {
    "name": "ipython",
    "version": 3
   },
   "file_extension": ".py",
   "mimetype": "text/x-python",
   "name": "python",
   "nbconvert_exporter": "python",
   "pygments_lexer": "ipython3",
   "version": "3.9.0"
  }
 },
 "nbformat": 4,
 "nbformat_minor": 5
}
